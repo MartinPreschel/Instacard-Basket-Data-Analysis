{
 "cells": [
  {
   "cell_type": "markdown",
   "id": "77c08c81-bc6c-4f13-962b-30716367f812",
   "metadata": {},
   "source": [
    "## Importing important libraries¶"
   ]
  },
  {
   "cell_type": "code",
   "execution_count": 3,
   "id": "1da70700-153c-43f9-ac21-6ece87c738b2",
   "metadata": {},
   "outputs": [],
   "source": [
    "import pandas as pd  # For DataFrames\n",
    "import numpy as np  # For numeric calculations\n",
    "import os  # For file management"
   ]
  },
  {
   "cell_type": "markdown",
   "id": "decc056f-b670-43fa-b17d-6598db1ae2da",
   "metadata": {},
   "source": [
    "## Import Pickle file into Pandas"
   ]
  },
  {
   "cell_type": "code",
   "execution_count": 8,
   "id": "358145ea-902b-4aae-829f-f5e1b3b7840f",
   "metadata": {},
   "outputs": [],
   "source": [
    "# Data set path\n",
    "\n",
    "path = r\"/Users/martin/anaconda_projects/11-02-2025 Instacart Basket Analysis\""
   ]
  },
  {
   "cell_type": "code",
   "execution_count": 10,
   "id": "ef62a0ab-29c8-49bc-87b2-3037d5bdfff3",
   "metadata": {},
   "outputs": [],
   "source": [
    "# Import of the \"ords_prods_merge\" data set \n",
    "\n",
    "ords_prods_merge = pd.read_pickle(os.path.join(path, '02 data' , 'Prepared Data' , 'ords_prods_merge_2.pkl')) "
   ]
  },
  {
   "cell_type": "markdown",
   "id": "d2ccedb3-24d1-420a-afc0-5a4d8b5ba69e",
   "metadata": {},
   "source": [
    "# Task 2) Aggregating Order Numbers for the Full Dataset"
   ]
  },
  {
   "cell_type": "markdown",
   "id": "9982c470-7100-4a96-a4aa-858f01aac1f0",
   "metadata": {},
   "source": [
    "## 1) Group data: groupby()"
   ]
  },
  {
   "cell_type": "code",
   "execution_count": 32,
   "id": "f6aad836-0af8-4e7c-8a90-7d929c8a0167",
   "metadata": {},
   "outputs": [
    {
     "data": {
      "text/plain": [
       "<pandas.core.groupby.generic.DataFrameGroupBy object at 0x124ceaa50>"
      ]
     },
     "execution_count": 32,
     "metadata": {},
     "output_type": "execute_result"
    }
   ],
   "source": [
    "# This function groups the data in the DataFrame ords_prods_merge according to the product name (product_name).\n",
    "\n",
    "ords_prods_merge.groupby('product_name')"
   ]
  },
  {
   "cell_type": "code",
   "execution_count": 34,
   "id": "e6523c29-698f-4b50-88c7-e4e094dec23f",
   "metadata": {},
   "outputs": [],
   "source": [
    "# Problem: groupby() alone shows no visible results!"
   ]
  },
  {
   "cell_type": "markdown",
   "id": "0b57ff83-a186-474c-ac5a-ec74f6810ec1",
   "metadata": {},
   "source": [
    "## 2) Aggregate data: agg()"
   ]
  },
  {
   "cell_type": "code",
   "execution_count": 36,
   "id": "1af43425-d8d4-45de-a15e-65995d7a8b78",
   "metadata": {
    "scrolled": true
   },
   "outputs": [
    {
     "data": {
      "text/html": [
       "<div>\n",
       "<style scoped>\n",
       "    .dataframe tbody tr th:only-of-type {\n",
       "        vertical-align: middle;\n",
       "    }\n",
       "\n",
       "    .dataframe tbody tr th {\n",
       "        vertical-align: top;\n",
       "    }\n",
       "\n",
       "    .dataframe thead th {\n",
       "        text-align: right;\n",
       "    }\n",
       "</style>\n",
       "<table border=\"1\" class=\"dataframe\">\n",
       "  <thead>\n",
       "    <tr style=\"text-align: right;\">\n",
       "      <th></th>\n",
       "      <th>order_number</th>\n",
       "    </tr>\n",
       "    <tr>\n",
       "      <th>department_id</th>\n",
       "      <th></th>\n",
       "    </tr>\n",
       "  </thead>\n",
       "  <tbody>\n",
       "    <tr>\n",
       "      <th>1</th>\n",
       "      <td>15.457687</td>\n",
       "    </tr>\n",
       "    <tr>\n",
       "      <th>2</th>\n",
       "      <td>17.277920</td>\n",
       "    </tr>\n",
       "    <tr>\n",
       "      <th>3</th>\n",
       "      <td>17.179756</td>\n",
       "    </tr>\n",
       "    <tr>\n",
       "      <th>4</th>\n",
       "      <td>17.811403</td>\n",
       "    </tr>\n",
       "    <tr>\n",
       "      <th>5</th>\n",
       "      <td>15.213779</td>\n",
       "    </tr>\n",
       "    <tr>\n",
       "      <th>6</th>\n",
       "      <td>16.439806</td>\n",
       "    </tr>\n",
       "    <tr>\n",
       "      <th>7</th>\n",
       "      <td>17.225773</td>\n",
       "    </tr>\n",
       "    <tr>\n",
       "      <th>8</th>\n",
       "      <td>15.340520</td>\n",
       "    </tr>\n",
       "    <tr>\n",
       "      <th>9</th>\n",
       "      <td>15.895474</td>\n",
       "    </tr>\n",
       "    <tr>\n",
       "      <th>10</th>\n",
       "      <td>20.197148</td>\n",
       "    </tr>\n",
       "    <tr>\n",
       "      <th>11</th>\n",
       "      <td>16.170828</td>\n",
       "    </tr>\n",
       "    <tr>\n",
       "      <th>12</th>\n",
       "      <td>15.887622</td>\n",
       "    </tr>\n",
       "    <tr>\n",
       "      <th>13</th>\n",
       "      <td>16.583304</td>\n",
       "    </tr>\n",
       "    <tr>\n",
       "      <th>14</th>\n",
       "      <td>16.757377</td>\n",
       "    </tr>\n",
       "    <tr>\n",
       "      <th>15</th>\n",
       "      <td>16.165037</td>\n",
       "    </tr>\n",
       "    <tr>\n",
       "      <th>16</th>\n",
       "      <td>17.663250</td>\n",
       "    </tr>\n",
       "    <tr>\n",
       "      <th>17</th>\n",
       "      <td>15.694469</td>\n",
       "    </tr>\n",
       "    <tr>\n",
       "      <th>18</th>\n",
       "      <td>19.310397</td>\n",
       "    </tr>\n",
       "    <tr>\n",
       "      <th>19</th>\n",
       "      <td>17.177343</td>\n",
       "    </tr>\n",
       "    <tr>\n",
       "      <th>20</th>\n",
       "      <td>16.473447</td>\n",
       "    </tr>\n",
       "    <tr>\n",
       "      <th>21</th>\n",
       "      <td>22.902379</td>\n",
       "    </tr>\n",
       "  </tbody>\n",
       "</table>\n",
       "</div>"
      ],
      "text/plain": [
       "               order_number\n",
       "department_id              \n",
       "1                 15.457687\n",
       "2                 17.277920\n",
       "3                 17.179756\n",
       "4                 17.811403\n",
       "5                 15.213779\n",
       "6                 16.439806\n",
       "7                 17.225773\n",
       "8                 15.340520\n",
       "9                 15.895474\n",
       "10                20.197148\n",
       "11                16.170828\n",
       "12                15.887622\n",
       "13                16.583304\n",
       "14                16.757377\n",
       "15                16.165037\n",
       "16                17.663250\n",
       "17                15.694469\n",
       "18                19.310397\n",
       "19                17.177343\n",
       "20                16.473447\n",
       "21                22.902379"
      ]
     },
     "execution_count": 36,
     "metadata": {},
     "output_type": "execute_result"
    }
   ],
   "source": [
    "# Calculate average number of orders per department\n",
    "\n",
    "ords_prods_merge.groupby('department_id').agg({'order_number': 'mean'})"
   ]
  },
  {
   "cell_type": "code",
   "execution_count": 40,
   "id": "b537cbaf-41b4-4e48-8b5e-0e81ba7f6926",
   "metadata": {},
   "outputs": [],
   "source": [
    "# Insight: Customers order most frequently in the department with the id-number = 1!"
   ]
  },
  {
   "cell_type": "markdown",
   "id": "57ed4a57-7f9e-452c-be1f-2d6527e166f6",
   "metadata": {},
   "source": [
    "## 4) Create new column: transform()"
   ]
  },
  {
   "cell_type": "code",
   "execution_count": 43,
   "id": "2e4224b3-c5ca-42bd-8c69-0d83d1d9c6a9",
   "metadata": {},
   "outputs": [
    {
     "name": "stderr",
     "output_type": "stream",
     "text": [
      "/var/folders/_l/9n60r5ks59sd8bty6knfk2g40000gn/T/ipykernel_35189/747942136.py:3: FutureWarning: The provided callable <function max at 0x1091f8540> is currently using SeriesGroupBy.max. In a future version of pandas, the provided callable will be used directly. To keep current behavior pass the string \"max\" instead.\n",
      "  ords_prods_merge['max_order'] = ords_prods_merge.groupby('user_id')['order_number'].transform(np.max)\n"
     ]
    }
   ],
   "source": [
    "# How often has each customer ordered?\n",
    "\n",
    "ords_prods_merge['max_order'] = ords_prods_merge.groupby('user_id')['order_number'].transform(np.max)"
   ]
  },
  {
   "cell_type": "code",
   "execution_count": 53,
   "id": "a4918737-f33a-49c9-8148-64be282b7c2b",
   "metadata": {},
   "outputs": [
    {
     "data": {
      "text/html": [
       "<div>\n",
       "<style scoped>\n",
       "    .dataframe tbody tr th:only-of-type {\n",
       "        vertical-align: middle;\n",
       "    }\n",
       "\n",
       "    .dataframe tbody tr th {\n",
       "        vertical-align: top;\n",
       "    }\n",
       "\n",
       "    .dataframe thead th {\n",
       "        text-align: right;\n",
       "    }\n",
       "</style>\n",
       "<table border=\"1\" class=\"dataframe\">\n",
       "  <thead>\n",
       "    <tr style=\"text-align: right;\">\n",
       "      <th></th>\n",
       "      <th>user_id</th>\n",
       "      <th>order_number</th>\n",
       "      <th>max_order</th>\n",
       "    </tr>\n",
       "  </thead>\n",
       "  <tbody>\n",
       "    <tr>\n",
       "      <th>0</th>\n",
       "      <td>1</td>\n",
       "      <td>1</td>\n",
       "      <td>10</td>\n",
       "    </tr>\n",
       "    <tr>\n",
       "      <th>1</th>\n",
       "      <td>1</td>\n",
       "      <td>1</td>\n",
       "      <td>10</td>\n",
       "    </tr>\n",
       "    <tr>\n",
       "      <th>2</th>\n",
       "      <td>1</td>\n",
       "      <td>1</td>\n",
       "      <td>10</td>\n",
       "    </tr>\n",
       "    <tr>\n",
       "      <th>3</th>\n",
       "      <td>1</td>\n",
       "      <td>1</td>\n",
       "      <td>10</td>\n",
       "    </tr>\n",
       "    <tr>\n",
       "      <th>4</th>\n",
       "      <td>1</td>\n",
       "      <td>1</td>\n",
       "      <td>10</td>\n",
       "    </tr>\n",
       "    <tr>\n",
       "      <th>...</th>\n",
       "      <td>...</td>\n",
       "      <td>...</td>\n",
       "      <td>...</td>\n",
       "    </tr>\n",
       "    <tr>\n",
       "      <th>95</th>\n",
       "      <td>2</td>\n",
       "      <td>4</td>\n",
       "      <td>14</td>\n",
       "    </tr>\n",
       "    <tr>\n",
       "      <th>96</th>\n",
       "      <td>2</td>\n",
       "      <td>5</td>\n",
       "      <td>14</td>\n",
       "    </tr>\n",
       "    <tr>\n",
       "      <th>97</th>\n",
       "      <td>2</td>\n",
       "      <td>5</td>\n",
       "      <td>14</td>\n",
       "    </tr>\n",
       "    <tr>\n",
       "      <th>98</th>\n",
       "      <td>2</td>\n",
       "      <td>5</td>\n",
       "      <td>14</td>\n",
       "    </tr>\n",
       "    <tr>\n",
       "      <th>99</th>\n",
       "      <td>2</td>\n",
       "      <td>5</td>\n",
       "      <td>14</td>\n",
       "    </tr>\n",
       "  </tbody>\n",
       "</table>\n",
       "<p>100 rows × 3 columns</p>\n",
       "</div>"
      ],
      "text/plain": [
       "    user_id  order_number  max_order\n",
       "0         1             1         10\n",
       "1         1             1         10\n",
       "2         1             1         10\n",
       "3         1             1         10\n",
       "4         1             1         10\n",
       "..      ...           ...        ...\n",
       "95        2             4         14\n",
       "96        2             5         14\n",
       "97        2             5         14\n",
       "98        2             5         14\n",
       "99        2             5         14\n",
       "\n",
       "[100 rows x 3 columns]"
      ]
     },
     "execution_count": 53,
     "metadata": {},
     "output_type": "execute_result"
    }
   ],
   "source": [
    "ords_prods_merge[['user_id', 'order_number', 'max_order']].head(100)"
   ]
  },
  {
   "cell_type": "code",
   "execution_count": 55,
   "id": "dc4634a0-4807-4301-a2f6-086f5ad790eb",
   "metadata": {},
   "outputs": [],
   "source": [
    "# Insight: Customer 1 has ordered a total of 10 times, customer 2 14 times."
   ]
  },
  {
   "cell_type": "markdown",
   "id": "5f2a8834-2653-44d1-9966-5dd8e7883068",
   "metadata": {},
   "source": [
    "## Task 3) Comparing Aggregated Order Numbers: Full Dataset vs. Subset\n",
    "\n",
    "\n",
    "### Comparison of the aggregation results  \n",
    "\n",
    "### After calculating the 'order_number' mean values for the subset and the entire DataFrame, the following findings emerge:\n",
    "\n",
    "### - The values for the entire DataFrame differ little to not at all from those of the subset.\n",
    "### - Some departments have higher average values than in the subset. This indicates that the subset does not accurately reflect all order patterns.\n",
    "### - The difference could be greater for the highly frequented departments (e.g. “produce” or “dairy”) in particular, as they are more strongly represented in the complete set.\n",
    "### - Overall, it can be seen that a subset with 1 million lines provides a good approximation, but is not always representative of the entire dataset."
   ]
  },
  {
   "cell_type": "markdown",
   "id": "cf933e70-0ea2-4fcb-bc8d-c056568d6bd3",
   "metadata": {},
   "source": [
    "## Task 4) Categorizing Customers Based on Order History"
   ]
  },
  {
   "cell_type": "markdown",
   "id": "9fd675dd-777f-4eba-b6f6-4dbb908f370b",
   "metadata": {},
   "source": [
    "## Categorize customers: loc()"
   ]
  },
  {
   "cell_type": "code",
   "execution_count": 58,
   "id": "5c361648-eb05-42de-9fa9-1a9987cb7876",
   "metadata": {},
   "outputs": [],
   "source": [
    "# Who is a “loyal customer”?\n",
    "\n",
    "ords_prods_merge.loc[ords_prods_merge['max_order'] > 40, 'loyalty_flag'] = 'Loyal customer'\n",
    "\n",
    "ords_prods_merge.loc[(ords_prods_merge['max_order'] <= 40) & (ords_prods_merge['max_order'] > 10), 'loyalty_flag'] = 'Regular customer'\n",
    "\n",
    "ords_prods_merge.loc[ords_prods_merge['max_order'] <= 10, 'loyalty_flag'] = 'New customer'"
   ]
  },
  {
   "cell_type": "code",
   "execution_count": 60,
   "id": "a07e9f1f-6b69-4626-8e34-95d92244f265",
   "metadata": {},
   "outputs": [
    {
     "data": {
      "text/plain": [
       "loyalty_flag\n",
       "Regular customer    15891077\n",
       "Loyal customer      10293737\n",
       "New customer         6249398\n",
       "Name: count, dtype: int64"
      ]
     },
     "execution_count": 60,
     "metadata": {},
     "output_type": "execute_result"
    }
   ],
   "source": [
    "# Checking the result\n",
    "\n",
    "ords_prods_merge['loyalty_flag'].value_counts(dropna=False)"
   ]
  },
  {
   "cell_type": "code",
   "execution_count": 62,
   "id": "aacbdc40-4cbb-4179-8ff9-514ee6ca7ba8",
   "metadata": {},
   "outputs": [],
   "source": [
    "# Result: Most customers are regualar customer with a total of 15891077. \n",
    "# Followed by loyal customers with a total of 10293737.\n",
    "# The least amond of customers are new customers with a total of 6249398. "
   ]
  },
  {
   "cell_type": "code",
   "execution_count": 66,
   "id": "14904fe5-807f-420d-9137-b11392f438a9",
   "metadata": {},
   "outputs": [
    {
     "data": {
      "text/html": [
       "<div>\n",
       "<style scoped>\n",
       "    .dataframe tbody tr th:only-of-type {\n",
       "        vertical-align: middle;\n",
       "    }\n",
       "\n",
       "    .dataframe tbody tr th {\n",
       "        vertical-align: top;\n",
       "    }\n",
       "\n",
       "    .dataframe thead th {\n",
       "        text-align: right;\n",
       "    }\n",
       "</style>\n",
       "<table border=\"1\" class=\"dataframe\">\n",
       "  <thead>\n",
       "    <tr style=\"text-align: right;\">\n",
       "      <th></th>\n",
       "      <th>user_id</th>\n",
       "      <th>loyalty_flag</th>\n",
       "      <th>order_number</th>\n",
       "    </tr>\n",
       "  </thead>\n",
       "  <tbody>\n",
       "    <tr>\n",
       "      <th>0</th>\n",
       "      <td>1</td>\n",
       "      <td>New customer</td>\n",
       "      <td>1</td>\n",
       "    </tr>\n",
       "    <tr>\n",
       "      <th>1</th>\n",
       "      <td>1</td>\n",
       "      <td>New customer</td>\n",
       "      <td>1</td>\n",
       "    </tr>\n",
       "    <tr>\n",
       "      <th>2</th>\n",
       "      <td>1</td>\n",
       "      <td>New customer</td>\n",
       "      <td>1</td>\n",
       "    </tr>\n",
       "    <tr>\n",
       "      <th>3</th>\n",
       "      <td>1</td>\n",
       "      <td>New customer</td>\n",
       "      <td>1</td>\n",
       "    </tr>\n",
       "    <tr>\n",
       "      <th>4</th>\n",
       "      <td>1</td>\n",
       "      <td>New customer</td>\n",
       "      <td>1</td>\n",
       "    </tr>\n",
       "    <tr>\n",
       "      <th>...</th>\n",
       "      <td>...</td>\n",
       "      <td>...</td>\n",
       "      <td>...</td>\n",
       "    </tr>\n",
       "    <tr>\n",
       "      <th>95</th>\n",
       "      <td>2</td>\n",
       "      <td>Regular customer</td>\n",
       "      <td>4</td>\n",
       "    </tr>\n",
       "    <tr>\n",
       "      <th>96</th>\n",
       "      <td>2</td>\n",
       "      <td>Regular customer</td>\n",
       "      <td>5</td>\n",
       "    </tr>\n",
       "    <tr>\n",
       "      <th>97</th>\n",
       "      <td>2</td>\n",
       "      <td>Regular customer</td>\n",
       "      <td>5</td>\n",
       "    </tr>\n",
       "    <tr>\n",
       "      <th>98</th>\n",
       "      <td>2</td>\n",
       "      <td>Regular customer</td>\n",
       "      <td>5</td>\n",
       "    </tr>\n",
       "    <tr>\n",
       "      <th>99</th>\n",
       "      <td>2</td>\n",
       "      <td>Regular customer</td>\n",
       "      <td>5</td>\n",
       "    </tr>\n",
       "  </tbody>\n",
       "</table>\n",
       "<p>100 rows × 3 columns</p>\n",
       "</div>"
      ],
      "text/plain": [
       "    user_id      loyalty_flag  order_number\n",
       "0         1      New customer             1\n",
       "1         1      New customer             1\n",
       "2         1      New customer             1\n",
       "3         1      New customer             1\n",
       "4         1      New customer             1\n",
       "..      ...               ...           ...\n",
       "95        2  Regular customer             4\n",
       "96        2  Regular customer             5\n",
       "97        2  Regular customer             5\n",
       "98        2  Regular customer             5\n",
       "99        2  Regular customer             5\n",
       "\n",
       "[100 rows x 3 columns]"
      ]
     },
     "execution_count": 66,
     "metadata": {},
     "output_type": "execute_result"
    }
   ],
   "source": [
    "# Since the result above doesn't say much, let's check it again with the command:\n",
    "\n",
    "ords_prods_merge[['user_id', 'loyalty_flag', 'order_number']].head(100)"
   ]
  },
  {
   "cell_type": "code",
   "execution_count": 68,
   "id": "70ad35fa-fd02-474e-8087-33c2baa14593",
   "metadata": {},
   "outputs": [],
   "source": [
    "# Result: Customer 1 is a New Customer (few orders). Customer 2 is a Regular Customer (average number of orders)."
   ]
  },
  {
   "cell_type": "markdown",
   "id": "e9d4fda4-d6fd-4efd-9ae0-2134834f896c",
   "metadata": {},
   "source": [
    "## Task 5) Analyzing Spending Habits by Customer Loyalty"
   ]
  },
  {
   "cell_type": "code",
   "execution_count": 84,
   "id": "202254b1-95bc-4248-9a8a-f14db93fdb71",
   "metadata": {},
   "outputs": [
    {
     "data": {
      "text/html": [
       "<div>\n",
       "<style scoped>\n",
       "    .dataframe tbody tr th:only-of-type {\n",
       "        vertical-align: middle;\n",
       "    }\n",
       "\n",
       "    .dataframe tbody tr th {\n",
       "        vertical-align: top;\n",
       "    }\n",
       "\n",
       "    .dataframe thead tr th {\n",
       "        text-align: left;\n",
       "    }\n",
       "\n",
       "    .dataframe thead tr:last-of-type th {\n",
       "        text-align: right;\n",
       "    }\n",
       "</style>\n",
       "<table border=\"1\" class=\"dataframe\">\n",
       "  <thead>\n",
       "    <tr>\n",
       "      <th></th>\n",
       "      <th colspan=\"3\" halign=\"left\">prices</th>\n",
       "    </tr>\n",
       "    <tr>\n",
       "      <th></th>\n",
       "      <th>mean</th>\n",
       "      <th>min</th>\n",
       "      <th>max</th>\n",
       "    </tr>\n",
       "    <tr>\n",
       "      <th>loyalty_flag</th>\n",
       "      <th></th>\n",
       "      <th></th>\n",
       "      <th></th>\n",
       "    </tr>\n",
       "  </thead>\n",
       "  <tbody>\n",
       "    <tr>\n",
       "      <th>Loyal customer</th>\n",
       "      <td>10.388747</td>\n",
       "      <td>1.0</td>\n",
       "      <td>99999.0</td>\n",
       "    </tr>\n",
       "    <tr>\n",
       "      <th>New customer</th>\n",
       "      <td>13.294370</td>\n",
       "      <td>1.0</td>\n",
       "      <td>99999.0</td>\n",
       "    </tr>\n",
       "    <tr>\n",
       "      <th>Regular customer</th>\n",
       "      <td>12.496203</td>\n",
       "      <td>1.0</td>\n",
       "      <td>99999.0</td>\n",
       "    </tr>\n",
       "  </tbody>\n",
       "</table>\n",
       "</div>"
      ],
      "text/plain": [
       "                     prices              \n",
       "                       mean  min      max\n",
       "loyalty_flag                             \n",
       "Loyal customer    10.388747  1.0  99999.0\n",
       "New customer      13.294370  1.0  99999.0\n",
       "Regular customer  12.496203  1.0  99999.0"
      ]
     },
     "execution_count": 84,
     "metadata": {},
     "output_type": "execute_result"
    }
   ],
   "source": [
    "# Groups the data according to customer loyalty (loyalty_flag)  \n",
    "# and calculates the average (mean), minimum (min)  \n",
    "# and maximum (max) price for each group.\n",
    "\n",
    "ords_prods_merge.groupby('loyalty_flag').agg({'prices' : ['mean', 'min', 'max']})"
   ]
  },
  {
   "cell_type": "code",
   "execution_count": 86,
   "id": "ceac7375-9671-4fa3-81c6-786740961ce7",
   "metadata": {},
   "outputs": [],
   "source": [
    "# Insight from the data:\n",
    "# - New customers have the highest average spend per product (13.29), while loyal customers spend the least (10.39).  \n",
    "# - The minimum price is the same for all groups (1.0), as is the maximum price (99.999.0), which could indicate incorrect or implausible price data.  \n",
    "# - Possible interpretation: New customers may be trying out more expensive products, while loyal customers already know which cheaper products they regularly buy.  "
   ]
  },
  {
   "cell_type": "markdown",
   "id": "4bb626e0-0e13-4f32-8633-5391631913b0",
   "metadata": {},
   "source": [
    "## Task 6)"
   ]
  },
  {
   "cell_type": "code",
   "execution_count": 97,
   "id": "303a4ff7-f5a7-4529-a985-a0118960c4eb",
   "metadata": {},
   "outputs": [
    {
     "name": "stderr",
     "output_type": "stream",
     "text": [
      "/var/folders/_l/9n60r5ks59sd8bty6knfk2g40000gn/T/ipykernel_35189/827320311.py:3: FutureWarning: The provided callable <function mean at 0x1091f8f40> is currently using SeriesGroupBy.mean. In a future version of pandas, the provided callable will be used directly. To keep current behavior pass the string \"mean\" instead.\n",
      "  ords_prods_merge['avg_product_price'] = ords_prods_merge.groupby(['user_id'])['prices'].transform(np.mean)\n"
     ]
    }
   ],
   "source": [
    "# Aggregating Data with transform() Function\n",
    "\n",
    "ords_prods_merge['avg_product_price'] = ords_prods_merge.groupby(['user_id'])['prices'].transform(np.mean)\n"
   ]
  },
  {
   "cell_type": "code",
   "execution_count": 107,
   "id": "e844db2f-9e43-4fe9-9b10-ad8094852002",
   "metadata": {},
   "outputs": [
    {
     "data": {
      "text/html": [
       "<div>\n",
       "<style scoped>\n",
       "    .dataframe tbody tr th:only-of-type {\n",
       "        vertical-align: middle;\n",
       "    }\n",
       "\n",
       "    .dataframe tbody tr th {\n",
       "        vertical-align: top;\n",
       "    }\n",
       "\n",
       "    .dataframe thead th {\n",
       "        text-align: right;\n",
       "    }\n",
       "</style>\n",
       "<table border=\"1\" class=\"dataframe\">\n",
       "  <thead>\n",
       "    <tr style=\"text-align: right;\">\n",
       "      <th></th>\n",
       "      <th>user_id</th>\n",
       "      <th>avg_product_price</th>\n",
       "    </tr>\n",
       "  </thead>\n",
       "  <tbody>\n",
       "    <tr>\n",
       "      <th>0</th>\n",
       "      <td>1</td>\n",
       "      <td>6.367797</td>\n",
       "    </tr>\n",
       "    <tr>\n",
       "      <th>1</th>\n",
       "      <td>1</td>\n",
       "      <td>6.367797</td>\n",
       "    </tr>\n",
       "    <tr>\n",
       "      <th>2</th>\n",
       "      <td>1</td>\n",
       "      <td>6.367797</td>\n",
       "    </tr>\n",
       "    <tr>\n",
       "      <th>3</th>\n",
       "      <td>1</td>\n",
       "      <td>6.367797</td>\n",
       "    </tr>\n",
       "    <tr>\n",
       "      <th>4</th>\n",
       "      <td>1</td>\n",
       "      <td>6.367797</td>\n",
       "    </tr>\n",
       "    <tr>\n",
       "      <th>...</th>\n",
       "      <td>...</td>\n",
       "      <td>...</td>\n",
       "    </tr>\n",
       "    <tr>\n",
       "      <th>995</th>\n",
       "      <td>12</td>\n",
       "      <td>8.116216</td>\n",
       "    </tr>\n",
       "    <tr>\n",
       "      <th>996</th>\n",
       "      <td>12</td>\n",
       "      <td>8.116216</td>\n",
       "    </tr>\n",
       "    <tr>\n",
       "      <th>997</th>\n",
       "      <td>12</td>\n",
       "      <td>8.116216</td>\n",
       "    </tr>\n",
       "    <tr>\n",
       "      <th>998</th>\n",
       "      <td>12</td>\n",
       "      <td>8.116216</td>\n",
       "    </tr>\n",
       "    <tr>\n",
       "      <th>999</th>\n",
       "      <td>12</td>\n",
       "      <td>8.116216</td>\n",
       "    </tr>\n",
       "  </tbody>\n",
       "</table>\n",
       "<p>1000 rows × 2 columns</p>\n",
       "</div>"
      ],
      "text/plain": [
       "     user_id  avg_product_price\n",
       "0          1           6.367797\n",
       "1          1           6.367797\n",
       "2          1           6.367797\n",
       "3          1           6.367797\n",
       "4          1           6.367797\n",
       "..       ...                ...\n",
       "995       12           8.116216\n",
       "996       12           8.116216\n",
       "997       12           8.116216\n",
       "998       12           8.116216\n",
       "999       12           8.116216\n",
       "\n",
       "[1000 rows x 2 columns]"
      ]
     },
     "execution_count": 107,
     "metadata": {},
     "output_type": "execute_result"
    }
   ],
   "source": [
    "# Checking Relevant Columns \n",
    "\n",
    "ords_prods_merge[['user_id', 'avg_product_price']].head(1000)"
   ]
  },
  {
   "cell_type": "code",
   "execution_count": 109,
   "id": "e20c271e-046d-4491-93cb-4d79bd49e929",
   "metadata": {},
   "outputs": [],
   "source": [
    "# Creating a 'Spending' Label Flag using loc Function \n",
    "\n",
    "ords_prods_merge.loc[ords_prods_merge[\"avg_product_price\"] >= 10, \"spending_flag\"] = \"High spender\"\n",
    "\n",
    "ords_prods_merge.loc[ords_prods_merge[\"avg_product_price\"] < 10, \"spending_flag\"] = \"Low spender\""
   ]
  },
  {
   "cell_type": "code",
   "execution_count": 111,
   "id": "612f1d1f-5a15-4b81-a620-09dbe84a87d2",
   "metadata": {},
   "outputs": [
    {
     "data": {
      "text/plain": [
       "spending_flag\n",
       "Low spender     31798751\n",
       "High spender      635461\n",
       "Name: count, dtype: int64"
      ]
     },
     "execution_count": 111,
     "metadata": {},
     "output_type": "execute_result"
    }
   ],
   "source": [
    "# Examining Value Count on 'spending_flag' Column\n",
    "\n",
    "ords_prods_merge['spending_flag'].value_counts(dropna = False)"
   ]
  },
  {
   "cell_type": "code",
   "execution_count": 115,
   "id": "bffc97c5-db7d-4aed-b560-319df295dc82",
   "metadata": {},
   "outputs": [
    {
     "data": {
      "text/html": [
       "<div>\n",
       "<style scoped>\n",
       "    .dataframe tbody tr th:only-of-type {\n",
       "        vertical-align: middle;\n",
       "    }\n",
       "\n",
       "    .dataframe tbody tr th {\n",
       "        vertical-align: top;\n",
       "    }\n",
       "\n",
       "    .dataframe thead th {\n",
       "        text-align: right;\n",
       "    }\n",
       "</style>\n",
       "<table border=\"1\" class=\"dataframe\">\n",
       "  <thead>\n",
       "    <tr style=\"text-align: right;\">\n",
       "      <th></th>\n",
       "      <th>user_id</th>\n",
       "      <th>avg_product_price</th>\n",
       "      <th>spending_flag</th>\n",
       "    </tr>\n",
       "  </thead>\n",
       "  <tbody>\n",
       "    <tr>\n",
       "      <th>0</th>\n",
       "      <td>1</td>\n",
       "      <td>6.367797</td>\n",
       "      <td>Low spender</td>\n",
       "    </tr>\n",
       "    <tr>\n",
       "      <th>1</th>\n",
       "      <td>1</td>\n",
       "      <td>6.367797</td>\n",
       "      <td>Low spender</td>\n",
       "    </tr>\n",
       "    <tr>\n",
       "      <th>2</th>\n",
       "      <td>1</td>\n",
       "      <td>6.367797</td>\n",
       "      <td>Low spender</td>\n",
       "    </tr>\n",
       "    <tr>\n",
       "      <th>3</th>\n",
       "      <td>1</td>\n",
       "      <td>6.367797</td>\n",
       "      <td>Low spender</td>\n",
       "    </tr>\n",
       "    <tr>\n",
       "      <th>4</th>\n",
       "      <td>1</td>\n",
       "      <td>6.367797</td>\n",
       "      <td>Low spender</td>\n",
       "    </tr>\n",
       "    <tr>\n",
       "      <th>...</th>\n",
       "      <td>...</td>\n",
       "      <td>...</td>\n",
       "      <td>...</td>\n",
       "    </tr>\n",
       "    <tr>\n",
       "      <th>995</th>\n",
       "      <td>12</td>\n",
       "      <td>8.116216</td>\n",
       "      <td>Low spender</td>\n",
       "    </tr>\n",
       "    <tr>\n",
       "      <th>996</th>\n",
       "      <td>12</td>\n",
       "      <td>8.116216</td>\n",
       "      <td>Low spender</td>\n",
       "    </tr>\n",
       "    <tr>\n",
       "      <th>997</th>\n",
       "      <td>12</td>\n",
       "      <td>8.116216</td>\n",
       "      <td>Low spender</td>\n",
       "    </tr>\n",
       "    <tr>\n",
       "      <th>998</th>\n",
       "      <td>12</td>\n",
       "      <td>8.116216</td>\n",
       "      <td>Low spender</td>\n",
       "    </tr>\n",
       "    <tr>\n",
       "      <th>999</th>\n",
       "      <td>12</td>\n",
       "      <td>8.116216</td>\n",
       "      <td>Low spender</td>\n",
       "    </tr>\n",
       "  </tbody>\n",
       "</table>\n",
       "<p>1000 rows × 3 columns</p>\n",
       "</div>"
      ],
      "text/plain": [
       "     user_id  avg_product_price spending_flag\n",
       "0          1           6.367797   Low spender\n",
       "1          1           6.367797   Low spender\n",
       "2          1           6.367797   Low spender\n",
       "3          1           6.367797   Low spender\n",
       "4          1           6.367797   Low spender\n",
       "..       ...                ...           ...\n",
       "995       12           8.116216   Low spender\n",
       "996       12           8.116216   Low spender\n",
       "997       12           8.116216   Low spender\n",
       "998       12           8.116216   Low spender\n",
       "999       12           8.116216   Low spender\n",
       "\n",
       "[1000 rows x 3 columns]"
      ]
     },
     "execution_count": 115,
     "metadata": {},
     "output_type": "execute_result"
    }
   ],
   "source": [
    "# Checking Releavent Columns\n",
    "\n",
    "ords_prods_merge[['user_id', 'avg_product_price', 'spending_flag']].head(1000)"
   ]
  },
  {
   "cell_type": "markdown",
   "id": "43cfb1cf-a649-4c9b-918a-5c73f7ecd0e0",
   "metadata": {},
   "source": [
    "## Task 7) Identifying Frequent vs. Non-Frequent Customers"
   ]
  },
  {
   "cell_type": "code",
   "execution_count": null,
   "id": "ee34c372-5378-4845-be4e-289bcfef8e15",
   "metadata": {},
   "outputs": [],
   "source": []
  }
 ],
 "metadata": {
  "kernelspec": {
   "display_name": "Python [conda env:base] *",
   "language": "python",
   "name": "conda-base-py"
  },
  "language_info": {
   "codemirror_mode": {
    "name": "ipython",
    "version": 3
   },
   "file_extension": ".py",
   "mimetype": "text/x-python",
   "name": "python",
   "nbconvert_exporter": "python",
   "pygments_lexer": "ipython3",
   "version": "3.12.7"
  }
 },
 "nbformat": 4,
 "nbformat_minor": 5
}
