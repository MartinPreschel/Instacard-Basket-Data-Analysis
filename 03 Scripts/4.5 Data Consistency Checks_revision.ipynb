{
 "cells": [
  {
   "cell_type": "markdown",
   "id": "a9b4dde1-227f-4502-9364-5346412e5bd9",
   "metadata": {},
   "source": [
    "# Importing important libraries"
   ]
  },
  {
   "cell_type": "code",
   "execution_count": 2,
   "id": "09f84c88-1764-461b-9844-77926f8668df",
   "metadata": {},
   "outputs": [],
   "source": [
    "import pandas as pd  # For DataFrames\n",
    "import numpy as np  # For numeric calculations\n",
    "import os  # For file management"
   ]
  },
  {
   "cell_type": "markdown",
   "id": "84aab00f-3420-4fbf-ad99-598ac2b35041",
   "metadata": {},
   "source": [
    "# Import CSV files into Pandas"
   ]
  },
  {
   "cell_type": "code",
   "execution_count": 14,
   "id": "cc50d137-c34b-4d83-b0d1-e193eabacc43",
   "metadata": {},
   "outputs": [],
   "source": [
    "# data set path\n",
    "path = r\"/Users/martin/anaconda_projects/11-02-2025 Instacart Basket Analysis\""
   ]
  },
  {
   "cell_type": "code",
   "execution_count": 22,
   "id": "439c354a-408b-482d-baf0-58ded3999400",
   "metadata": {},
   "outputs": [],
   "source": [
    "# \"products\" data set\n",
    "df_prods = pd.read_csv(os.path.join(path, '02 Data', 'Original Data', 'products.csv'), index_col = False)"
   ]
  },
  {
   "cell_type": "code",
   "execution_count": 24,
   "id": "0d148dac-8fcf-4164-a63f-a7506dcf1c96",
   "metadata": {},
   "outputs": [],
   "source": [
    "# \"orders\" data set\n",
    "df_ords = pd.read_csv(os.path.join(path, '02 Data', 'Prepared Data', 'orders_wrangled.csv'), index_col = False)"
   ]
  },
  {
   "cell_type": "markdown",
   "id": "cabcf917-c4e5-41ea-86c7-f4d2478232e6",
   "metadata": {},
   "source": [
    "#"
   ]
  },
  {
   "cell_type": "code",
   "execution_count": 32,
   "id": "708401e2-c838-49f3-99ed-1435fb2dad79",
   "metadata": {},
   "outputs": [
    {
     "data": {
      "text/html": [
       "<div>\n",
       "<style scoped>\n",
       "    .dataframe tbody tr th:only-of-type {\n",
       "        vertical-align: middle;\n",
       "    }\n",
       "\n",
       "    .dataframe tbody tr th {\n",
       "        vertical-align: top;\n",
       "    }\n",
       "\n",
       "    .dataframe thead th {\n",
       "        text-align: right;\n",
       "    }\n",
       "</style>\n",
       "<table border=\"1\" class=\"dataframe\">\n",
       "  <thead>\n",
       "    <tr style=\"text-align: right;\">\n",
       "      <th></th>\n",
       "      <th>Unnamed: 0</th>\n",
       "      <th>order_id</th>\n",
       "      <th>user_id</th>\n",
       "      <th>order_number</th>\n",
       "      <th>orders_day_of_week</th>\n",
       "      <th>order_hour_of_day</th>\n",
       "      <th>days_po</th>\n",
       "    </tr>\n",
       "  </thead>\n",
       "  <tbody>\n",
       "    <tr>\n",
       "      <th>count</th>\n",
       "      <td>3.421083e+06</td>\n",
       "      <td>3.421083e+06</td>\n",
       "      <td>3.421083e+06</td>\n",
       "      <td>3.421083e+06</td>\n",
       "      <td>3.421083e+06</td>\n",
       "      <td>3.421083e+06</td>\n",
       "      <td>3.214874e+06</td>\n",
       "    </tr>\n",
       "    <tr>\n",
       "      <th>mean</th>\n",
       "      <td>1.710541e+06</td>\n",
       "      <td>1.710542e+06</td>\n",
       "      <td>1.029782e+05</td>\n",
       "      <td>1.715486e+01</td>\n",
       "      <td>2.776219e+00</td>\n",
       "      <td>1.345202e+01</td>\n",
       "      <td>1.111484e+01</td>\n",
       "    </tr>\n",
       "    <tr>\n",
       "      <th>std</th>\n",
       "      <td>9.875817e+05</td>\n",
       "      <td>9.875817e+05</td>\n",
       "      <td>5.953372e+04</td>\n",
       "      <td>1.773316e+01</td>\n",
       "      <td>2.046829e+00</td>\n",
       "      <td>4.226088e+00</td>\n",
       "      <td>9.206737e+00</td>\n",
       "    </tr>\n",
       "    <tr>\n",
       "      <th>min</th>\n",
       "      <td>0.000000e+00</td>\n",
       "      <td>1.000000e+00</td>\n",
       "      <td>1.000000e+00</td>\n",
       "      <td>1.000000e+00</td>\n",
       "      <td>0.000000e+00</td>\n",
       "      <td>0.000000e+00</td>\n",
       "      <td>0.000000e+00</td>\n",
       "    </tr>\n",
       "    <tr>\n",
       "      <th>25%</th>\n",
       "      <td>8.552705e+05</td>\n",
       "      <td>8.552715e+05</td>\n",
       "      <td>5.139400e+04</td>\n",
       "      <td>5.000000e+00</td>\n",
       "      <td>1.000000e+00</td>\n",
       "      <td>1.000000e+01</td>\n",
       "      <td>4.000000e+00</td>\n",
       "    </tr>\n",
       "    <tr>\n",
       "      <th>50%</th>\n",
       "      <td>1.710541e+06</td>\n",
       "      <td>1.710542e+06</td>\n",
       "      <td>1.026890e+05</td>\n",
       "      <td>1.100000e+01</td>\n",
       "      <td>3.000000e+00</td>\n",
       "      <td>1.300000e+01</td>\n",
       "      <td>7.000000e+00</td>\n",
       "    </tr>\n",
       "    <tr>\n",
       "      <th>75%</th>\n",
       "      <td>2.565812e+06</td>\n",
       "      <td>2.565812e+06</td>\n",
       "      <td>1.543850e+05</td>\n",
       "      <td>2.300000e+01</td>\n",
       "      <td>5.000000e+00</td>\n",
       "      <td>1.600000e+01</td>\n",
       "      <td>1.500000e+01</td>\n",
       "    </tr>\n",
       "    <tr>\n",
       "      <th>max</th>\n",
       "      <td>3.421082e+06</td>\n",
       "      <td>3.421083e+06</td>\n",
       "      <td>2.062090e+05</td>\n",
       "      <td>1.000000e+02</td>\n",
       "      <td>6.000000e+00</td>\n",
       "      <td>2.300000e+01</td>\n",
       "      <td>3.000000e+01</td>\n",
       "    </tr>\n",
       "  </tbody>\n",
       "</table>\n",
       "</div>"
      ],
      "text/plain": [
       "         Unnamed: 0      order_id       user_id  order_number  \\\n",
       "count  3.421083e+06  3.421083e+06  3.421083e+06  3.421083e+06   \n",
       "mean   1.710541e+06  1.710542e+06  1.029782e+05  1.715486e+01   \n",
       "std    9.875817e+05  9.875817e+05  5.953372e+04  1.773316e+01   \n",
       "min    0.000000e+00  1.000000e+00  1.000000e+00  1.000000e+00   \n",
       "25%    8.552705e+05  8.552715e+05  5.139400e+04  5.000000e+00   \n",
       "50%    1.710541e+06  1.710542e+06  1.026890e+05  1.100000e+01   \n",
       "75%    2.565812e+06  2.565812e+06  1.543850e+05  2.300000e+01   \n",
       "max    3.421082e+06  3.421083e+06  2.062090e+05  1.000000e+02   \n",
       "\n",
       "       orders_day_of_week  order_hour_of_day       days_po  \n",
       "count        3.421083e+06       3.421083e+06  3.214874e+06  \n",
       "mean         2.776219e+00       1.345202e+01  1.111484e+01  \n",
       "std          2.046829e+00       4.226088e+00  9.206737e+00  \n",
       "min          0.000000e+00       0.000000e+00  0.000000e+00  \n",
       "25%          1.000000e+00       1.000000e+01  4.000000e+00  \n",
       "50%          3.000000e+00       1.300000e+01  7.000000e+00  \n",
       "75%          5.000000e+00       1.600000e+01  1.500000e+01  \n",
       "max          6.000000e+00       2.300000e+01  3.000000e+01  "
      ]
     },
     "execution_count": 32,
     "metadata": {},
     "output_type": "execute_result"
    }
   ],
   "source": [
    "# The df.describe() function returns descriptive statistics for the numeric values in your dataframe.\n",
    "df_ords.describe()"
   ]
  },
  {
   "cell_type": "markdown",
   "id": "d463ac3e-3d09-4fed-b63c-33a3f03612c0",
   "metadata": {},
   "source": [
    "#"
   ]
  },
  {
   "cell_type": "markdown",
   "id": "2a995a2c-9a29-473f-9e91-5034dd6dbcd9",
   "metadata": {},
   "source": [
    "# Mixed-Type Data"
   ]
  },
  {
   "cell_type": "code",
   "execution_count": 37,
   "id": "9655aea0-4ff7-4af5-a391-af0ab919cc98",
   "metadata": {},
   "outputs": [],
   "source": [
    "# Create a dataframe\n",
    "df_test = pd.DataFrame()"
   ]
  },
  {
   "cell_type": "code",
   "execution_count": 39,
   "id": "f39d5e83-b384-4d3d-a628-b99519b03f6b",
   "metadata": {},
   "outputs": [],
   "source": [
    "# Create a mixed type column \n",
    "df_test['mix'] = ['a', 'b', 1, True]"
   ]
  },
  {
   "cell_type": "code",
   "execution_count": 47,
   "id": "911fc10a-874b-47ad-bf7b-8cdd51e4d4ec",
   "metadata": {},
   "outputs": [
    {
     "data": {
      "text/html": [
       "<div>\n",
       "<style scoped>\n",
       "    .dataframe tbody tr th:only-of-type {\n",
       "        vertical-align: middle;\n",
       "    }\n",
       "\n",
       "    .dataframe tbody tr th {\n",
       "        vertical-align: top;\n",
       "    }\n",
       "\n",
       "    .dataframe thead th {\n",
       "        text-align: right;\n",
       "    }\n",
       "</style>\n",
       "<table border=\"1\" class=\"dataframe\">\n",
       "  <thead>\n",
       "    <tr style=\"text-align: right;\">\n",
       "      <th></th>\n",
       "      <th>mix</th>\n",
       "    </tr>\n",
       "  </thead>\n",
       "  <tbody>\n",
       "    <tr>\n",
       "      <th>0</th>\n",
       "      <td>a</td>\n",
       "    </tr>\n",
       "    <tr>\n",
       "      <th>1</th>\n",
       "      <td>b</td>\n",
       "    </tr>\n",
       "    <tr>\n",
       "      <th>2</th>\n",
       "      <td>1</td>\n",
       "    </tr>\n",
       "    <tr>\n",
       "      <th>3</th>\n",
       "      <td>True</td>\n",
       "    </tr>\n",
       "  </tbody>\n",
       "</table>\n",
       "</div>"
      ],
      "text/plain": [
       "    mix\n",
       "0     a\n",
       "1     b\n",
       "2     1\n",
       "3  True"
      ]
     },
     "execution_count": 47,
     "metadata": {},
     "output_type": "execute_result"
    }
   ],
   "source": [
    "# Use head() function to see the new mixed-typed column:\n",
    "df_test.head()"
   ]
  },
  {
   "cell_type": "code",
   "execution_count": 51,
   "id": "b51b982c-a7fa-4307-814b-08095703e9f2",
   "metadata": {},
   "outputs": [
    {
     "name": "stdout",
     "output_type": "stream",
     "text": [
      "mix\n"
     ]
    },
    {
     "name": "stderr",
     "output_type": "stream",
     "text": [
      "/var/folders/_l/9n60r5ks59sd8bty6knfk2g40000gn/T/ipykernel_91285/772068622.py:3: FutureWarning: DataFrame.applymap has been deprecated. Use DataFrame.map instead.\n",
      "  weird = (df_test[[col]].applymap(type) != df_test[[col]].iloc[0].apply(type)).any(axis = 1)\n"
     ]
    }
   ],
   "source": [
    "# Check for mixed types\n",
    "for col in df_test.columns.tolist():\n",
    "  weird = (df_test[[col]].applymap(type) != df_test[[col]].iloc[0].apply(type)).any(axis = 1)\n",
    "  if len (df_test[weird]) > 0:\n",
    "    print (col)"
   ]
  },
  {
   "cell_type": "code",
   "execution_count": 53,
   "id": "78d48f2d-2901-4085-9447-2b4fe04e7298",
   "metadata": {},
   "outputs": [],
   "source": [
    "df_test['mix'] = df_test['mix'].astype('str')"
   ]
  },
  {
   "cell_type": "markdown",
   "id": "26e1693d-8d84-4098-8a83-c673f1254ce7",
   "metadata": {},
   "source": [
    "#"
   ]
  },
  {
   "cell_type": "markdown",
   "id": "1fcb47f7-e26e-4945-b375-68c576a25fac",
   "metadata": {},
   "source": [
    "# Missing Values"
   ]
  },
  {
   "cell_type": "markdown",
   "id": "20ecf629-b03e-40e4-89d4-5c939f4a1fff",
   "metadata": {},
   "source": [
    "## Finding Missing Values"
   ]
  },
  {
   "cell_type": "code",
   "execution_count": 57,
   "id": "fc5781aa-cd31-45a7-9093-35ad84986dc1",
   "metadata": {},
   "outputs": [
    {
     "data": {
      "text/plain": [
       "product_id        0\n",
       "product_name     16\n",
       "aisle_id          0\n",
       "department_id     0\n",
       "prices            0\n",
       "dtype: int64"
      ]
     },
     "execution_count": 57,
     "metadata": {},
     "output_type": "execute_result"
    }
   ],
   "source": [
    "# To fix missing values, you first need to be able to find them.\n",
    "df_prods.isnull().sum()"
   ]
  },
  {
   "cell_type": "code",
   "execution_count": 69,
   "id": "d0d908d6-5695-4867-a07c-b001cdd667e9",
   "metadata": {},
   "outputs": [],
   "source": [
    "# That means product_name is missing 16 values!"
   ]
  },
  {
   "cell_type": "code",
   "execution_count": 65,
   "id": "ce5b493e-dee4-45be-8df3-7ff15b399144",
   "metadata": {},
   "outputs": [],
   "source": [
    "# To view these 16 values, create a subset of the dataframe containing the values in question\n",
    "df_nan = df_prods[df_prods[\"product_name\"].isnull() == True]"
   ]
  },
  {
   "cell_type": "code",
   "execution_count": 67,
   "id": "ca789f7f-3711-448d-9931-18a1fe11aa31",
   "metadata": {},
   "outputs": [
    {
     "data": {
      "text/html": [
       "<div>\n",
       "<style scoped>\n",
       "    .dataframe tbody tr th:only-of-type {\n",
       "        vertical-align: middle;\n",
       "    }\n",
       "\n",
       "    .dataframe tbody tr th {\n",
       "        vertical-align: top;\n",
       "    }\n",
       "\n",
       "    .dataframe thead th {\n",
       "        text-align: right;\n",
       "    }\n",
       "</style>\n",
       "<table border=\"1\" class=\"dataframe\">\n",
       "  <thead>\n",
       "    <tr style=\"text-align: right;\">\n",
       "      <th></th>\n",
       "      <th>product_id</th>\n",
       "      <th>product_name</th>\n",
       "      <th>aisle_id</th>\n",
       "      <th>department_id</th>\n",
       "      <th>prices</th>\n",
       "    </tr>\n",
       "  </thead>\n",
       "  <tbody>\n",
       "    <tr>\n",
       "      <th>33</th>\n",
       "      <td>34</td>\n",
       "      <td>NaN</td>\n",
       "      <td>121</td>\n",
       "      <td>14</td>\n",
       "      <td>12.2</td>\n",
       "    </tr>\n",
       "    <tr>\n",
       "      <th>68</th>\n",
       "      <td>69</td>\n",
       "      <td>NaN</td>\n",
       "      <td>26</td>\n",
       "      <td>7</td>\n",
       "      <td>11.8</td>\n",
       "    </tr>\n",
       "    <tr>\n",
       "      <th>115</th>\n",
       "      <td>116</td>\n",
       "      <td>NaN</td>\n",
       "      <td>93</td>\n",
       "      <td>3</td>\n",
       "      <td>10.8</td>\n",
       "    </tr>\n",
       "    <tr>\n",
       "      <th>261</th>\n",
       "      <td>262</td>\n",
       "      <td>NaN</td>\n",
       "      <td>110</td>\n",
       "      <td>13</td>\n",
       "      <td>12.1</td>\n",
       "    </tr>\n",
       "    <tr>\n",
       "      <th>525</th>\n",
       "      <td>525</td>\n",
       "      <td>NaN</td>\n",
       "      <td>109</td>\n",
       "      <td>11</td>\n",
       "      <td>1.2</td>\n",
       "    </tr>\n",
       "    <tr>\n",
       "      <th>1511</th>\n",
       "      <td>1511</td>\n",
       "      <td>NaN</td>\n",
       "      <td>84</td>\n",
       "      <td>16</td>\n",
       "      <td>14.3</td>\n",
       "    </tr>\n",
       "    <tr>\n",
       "      <th>1780</th>\n",
       "      <td>1780</td>\n",
       "      <td>NaN</td>\n",
       "      <td>126</td>\n",
       "      <td>11</td>\n",
       "      <td>12.3</td>\n",
       "    </tr>\n",
       "    <tr>\n",
       "      <th>2240</th>\n",
       "      <td>2240</td>\n",
       "      <td>NaN</td>\n",
       "      <td>52</td>\n",
       "      <td>1</td>\n",
       "      <td>14.2</td>\n",
       "    </tr>\n",
       "    <tr>\n",
       "      <th>2586</th>\n",
       "      <td>2586</td>\n",
       "      <td>NaN</td>\n",
       "      <td>104</td>\n",
       "      <td>13</td>\n",
       "      <td>12.4</td>\n",
       "    </tr>\n",
       "    <tr>\n",
       "      <th>3159</th>\n",
       "      <td>3159</td>\n",
       "      <td>NaN</td>\n",
       "      <td>126</td>\n",
       "      <td>11</td>\n",
       "      <td>13.1</td>\n",
       "    </tr>\n",
       "    <tr>\n",
       "      <th>3230</th>\n",
       "      <td>3230</td>\n",
       "      <td>NaN</td>\n",
       "      <td>120</td>\n",
       "      <td>16</td>\n",
       "      <td>14.4</td>\n",
       "    </tr>\n",
       "    <tr>\n",
       "      <th>3736</th>\n",
       "      <td>3736</td>\n",
       "      <td>NaN</td>\n",
       "      <td>41</td>\n",
       "      <td>8</td>\n",
       "      <td>14.8</td>\n",
       "    </tr>\n",
       "    <tr>\n",
       "      <th>4283</th>\n",
       "      <td>4283</td>\n",
       "      <td>NaN</td>\n",
       "      <td>77</td>\n",
       "      <td>7</td>\n",
       "      <td>14.4</td>\n",
       "    </tr>\n",
       "    <tr>\n",
       "      <th>4790</th>\n",
       "      <td>4790</td>\n",
       "      <td>NaN</td>\n",
       "      <td>91</td>\n",
       "      <td>16</td>\n",
       "      <td>14.5</td>\n",
       "    </tr>\n",
       "    <tr>\n",
       "      <th>38187</th>\n",
       "      <td>38183</td>\n",
       "      <td>NaN</td>\n",
       "      <td>39</td>\n",
       "      <td>12</td>\n",
       "      <td>20.9</td>\n",
       "    </tr>\n",
       "    <tr>\n",
       "      <th>40444</th>\n",
       "      <td>40440</td>\n",
       "      <td>NaN</td>\n",
       "      <td>120</td>\n",
       "      <td>16</td>\n",
       "      <td>14.8</td>\n",
       "    </tr>\n",
       "  </tbody>\n",
       "</table>\n",
       "</div>"
      ],
      "text/plain": [
       "       product_id product_name  aisle_id  department_id  prices\n",
       "33             34          NaN       121             14    12.2\n",
       "68             69          NaN        26              7    11.8\n",
       "115           116          NaN        93              3    10.8\n",
       "261           262          NaN       110             13    12.1\n",
       "525           525          NaN       109             11     1.2\n",
       "1511         1511          NaN        84             16    14.3\n",
       "1780         1780          NaN       126             11    12.3\n",
       "2240         2240          NaN        52              1    14.2\n",
       "2586         2586          NaN       104             13    12.4\n",
       "3159         3159          NaN       126             11    13.1\n",
       "3230         3230          NaN       120             16    14.4\n",
       "3736         3736          NaN        41              8    14.8\n",
       "4283         4283          NaN        77              7    14.4\n",
       "4790         4790          NaN        91             16    14.5\n",
       "38187       38183          NaN        39             12    20.9\n",
       "40444       40440          NaN       120             16    14.8"
      ]
     },
     "execution_count": 67,
     "metadata": {},
     "output_type": "execute_result"
    }
   ],
   "source": [
    "# To check the results\n",
    "df_nan"
   ]
  },
  {
   "cell_type": "markdown",
   "id": "154a84c4-d4b2-404f-a652-797197567b89",
   "metadata": {},
   "source": [
    "#"
   ]
  },
  {
   "cell_type": "markdown",
   "id": "fb24aa1f-b5a2-422c-9cff-8506dc2509ee",
   "metadata": {},
   "source": [
    "## Addressing Missing Values"
   ]
  },
  {
   "cell_type": "code",
   "execution_count": 73,
   "id": "266a29ec-293e-486a-b38b-17345bedd753",
   "metadata": {},
   "outputs": [],
   "source": [
    "# There are a few ways to deal with missing data:\n",
    "\n",
    "# 1) Create a new variable that acts like a flag based on the missing value.\n",
    "\n",
    "# 2) Impute the value with the mean or median of the column (if the variable is numeric).\n",
    "# Mean = df.describe() / df['column with missings'].fillna(mean value, inplace=True)\n",
    "# Median = df_prods.median() / df['column with missings'].fillna(median value, inplace=True)\n",
    "\n",
    "# 3) Remove or filter out the missing data."
   ]
  },
  {
   "cell_type": "code",
   "execution_count": 77,
   "id": "000bf017-72e8-43df-bc7e-3c1ae14125f7",
   "metadata": {},
   "outputs": [
    {
     "data": {
      "text/plain": [
       "(49693, 5)"
      ]
     },
     "execution_count": 77,
     "metadata": {},
     "output_type": "execute_result"
    }
   ],
   "source": [
    "# 3) Before removing or filter out missing data\n",
    "df_prods.shape # To see the current number of rows in the dataframe"
   ]
  },
  {
   "cell_type": "code",
   "execution_count": 79,
   "id": "d6154cd4-039f-40e3-b95a-aaa46dbdc449",
   "metadata": {},
   "outputs": [],
   "source": [
    "# The current dataframe (before removing or filtering) has 49693 rows and 5 columns"
   ]
  },
  {
   "cell_type": "code",
   "execution_count": 82,
   "id": "941683e2-5036-42de-bfae-a4de8d99fa96",
   "metadata": {},
   "outputs": [],
   "source": [
    "# Next, create a new (clean) dataframe (SAME PROCEDURE AS ABOVE AT FINDING MISSING VALUES!)\n",
    "df_prods_clean = df_prods[df_prods['product_name'].isnull() == False]"
   ]
  },
  {
   "cell_type": "code",
   "execution_count": 84,
   "id": "bb734b1e-bd82-4f05-b23b-8c4b7ddd088e",
   "metadata": {},
   "outputs": [
    {
     "data": {
      "text/html": [
       "<div>\n",
       "<style scoped>\n",
       "    .dataframe tbody tr th:only-of-type {\n",
       "        vertical-align: middle;\n",
       "    }\n",
       "\n",
       "    .dataframe tbody tr th {\n",
       "        vertical-align: top;\n",
       "    }\n",
       "\n",
       "    .dataframe thead th {\n",
       "        text-align: right;\n",
       "    }\n",
       "</style>\n",
       "<table border=\"1\" class=\"dataframe\">\n",
       "  <thead>\n",
       "    <tr style=\"text-align: right;\">\n",
       "      <th></th>\n",
       "      <th>product_id</th>\n",
       "      <th>product_name</th>\n",
       "      <th>aisle_id</th>\n",
       "      <th>department_id</th>\n",
       "      <th>prices</th>\n",
       "    </tr>\n",
       "  </thead>\n",
       "  <tbody>\n",
       "    <tr>\n",
       "      <th>0</th>\n",
       "      <td>1</td>\n",
       "      <td>Chocolate Sandwich Cookies</td>\n",
       "      <td>61</td>\n",
       "      <td>19</td>\n",
       "      <td>5.8</td>\n",
       "    </tr>\n",
       "    <tr>\n",
       "      <th>1</th>\n",
       "      <td>2</td>\n",
       "      <td>All-Seasons Salt</td>\n",
       "      <td>104</td>\n",
       "      <td>13</td>\n",
       "      <td>9.3</td>\n",
       "    </tr>\n",
       "    <tr>\n",
       "      <th>2</th>\n",
       "      <td>3</td>\n",
       "      <td>Robust Golden Unsweetened Oolong Tea</td>\n",
       "      <td>94</td>\n",
       "      <td>7</td>\n",
       "      <td>4.5</td>\n",
       "    </tr>\n",
       "    <tr>\n",
       "      <th>3</th>\n",
       "      <td>4</td>\n",
       "      <td>Smart Ones Classic Favorites Mini Rigatoni Wit...</td>\n",
       "      <td>38</td>\n",
       "      <td>1</td>\n",
       "      <td>10.5</td>\n",
       "    </tr>\n",
       "    <tr>\n",
       "      <th>4</th>\n",
       "      <td>5</td>\n",
       "      <td>Green Chile Anytime Sauce</td>\n",
       "      <td>5</td>\n",
       "      <td>13</td>\n",
       "      <td>4.3</td>\n",
       "    </tr>\n",
       "    <tr>\n",
       "      <th>...</th>\n",
       "      <td>...</td>\n",
       "      <td>...</td>\n",
       "      <td>...</td>\n",
       "      <td>...</td>\n",
       "      <td>...</td>\n",
       "    </tr>\n",
       "    <tr>\n",
       "      <th>49688</th>\n",
       "      <td>49684</td>\n",
       "      <td>Vodka, Triple Distilled, Twist of Vanilla</td>\n",
       "      <td>124</td>\n",
       "      <td>5</td>\n",
       "      <td>5.3</td>\n",
       "    </tr>\n",
       "    <tr>\n",
       "      <th>49689</th>\n",
       "      <td>49685</td>\n",
       "      <td>En Croute Roast Hazelnut Cranberry</td>\n",
       "      <td>42</td>\n",
       "      <td>1</td>\n",
       "      <td>3.1</td>\n",
       "    </tr>\n",
       "    <tr>\n",
       "      <th>49690</th>\n",
       "      <td>49686</td>\n",
       "      <td>Artisan Baguette</td>\n",
       "      <td>112</td>\n",
       "      <td>3</td>\n",
       "      <td>7.8</td>\n",
       "    </tr>\n",
       "    <tr>\n",
       "      <th>49691</th>\n",
       "      <td>49687</td>\n",
       "      <td>Smartblend Healthy Metabolism Dry Cat Food</td>\n",
       "      <td>41</td>\n",
       "      <td>8</td>\n",
       "      <td>4.7</td>\n",
       "    </tr>\n",
       "    <tr>\n",
       "      <th>49692</th>\n",
       "      <td>49688</td>\n",
       "      <td>Fresh Foaming Cleanser</td>\n",
       "      <td>73</td>\n",
       "      <td>11</td>\n",
       "      <td>13.5</td>\n",
       "    </tr>\n",
       "  </tbody>\n",
       "</table>\n",
       "<p>49677 rows × 5 columns</p>\n",
       "</div>"
      ],
      "text/plain": [
       "       product_id                                       product_name  \\\n",
       "0               1                         Chocolate Sandwich Cookies   \n",
       "1               2                                   All-Seasons Salt   \n",
       "2               3               Robust Golden Unsweetened Oolong Tea   \n",
       "3               4  Smart Ones Classic Favorites Mini Rigatoni Wit...   \n",
       "4               5                          Green Chile Anytime Sauce   \n",
       "...           ...                                                ...   \n",
       "49688       49684          Vodka, Triple Distilled, Twist of Vanilla   \n",
       "49689       49685                 En Croute Roast Hazelnut Cranberry   \n",
       "49690       49686                                   Artisan Baguette   \n",
       "49691       49687         Smartblend Healthy Metabolism Dry Cat Food   \n",
       "49692       49688                             Fresh Foaming Cleanser   \n",
       "\n",
       "       aisle_id  department_id  prices  \n",
       "0            61             19     5.8  \n",
       "1           104             13     9.3  \n",
       "2            94              7     4.5  \n",
       "3            38              1    10.5  \n",
       "4             5             13     4.3  \n",
       "...         ...            ...     ...  \n",
       "49688       124              5     5.3  \n",
       "49689        42              1     3.1  \n",
       "49690       112              3     7.8  \n",
       "49691        41              8     4.7  \n",
       "49692        73             11    13.5  \n",
       "\n",
       "[49677 rows x 5 columns]"
      ]
     },
     "execution_count": 84,
     "metadata": {},
     "output_type": "execute_result"
    }
   ],
   "source": [
    "df_prods_clean"
   ]
  },
  {
   "cell_type": "code",
   "execution_count": 86,
   "id": "fc0b660f-b495-4bb7-96f7-85e5c3e58578",
   "metadata": {},
   "outputs": [],
   "source": [
    "# The new \"cleaned\" dataframe shows 16 less rows!"
   ]
  },
  {
   "cell_type": "code",
   "execution_count": 88,
   "id": "b551bf9a-85cd-4344-83b7-b20399b139d5",
   "metadata": {},
   "outputs": [],
   "source": [
    "# Another option to do this would be: df_prods.dropna(inplace = True)\n",
    "# df_prods.dropna(subset = [‘product_name’], inplace = True) # to drop only the NaNs from a particular column!"
   ]
  },
  {
   "cell_type": "markdown",
   "id": "52224337-cc17-42c2-b320-d5a64d24edb9",
   "metadata": {},
   "source": [
    "#"
   ]
  },
  {
   "cell_type": "markdown",
   "id": "7616346d-fb2d-4a9d-b4c9-6441ad27dcc0",
   "metadata": {},
   "source": [
    "# Duplicates"
   ]
  },
  {
   "cell_type": "markdown",
   "id": "fc3d1c05-cc0c-4f17-8130-61dbac1a15e5",
   "metadata": {},
   "source": [
    "## Finding Duplicates"
   ]
  },
  {
   "cell_type": "code",
   "execution_count": 96,
   "id": "234d6c72-347f-496f-afcb-201774174e87",
   "metadata": {},
   "outputs": [],
   "source": [
    "# The following command will look for full duplicates within your dataframe:\n",
    "df_dups = df_prods_clean[df_prods_clean.duplicated()]"
   ]
  },
  {
   "cell_type": "code",
   "execution_count": 251,
   "id": "5822618b-c273-45c4-97ff-74964873aec5",
   "metadata": {},
   "outputs": [
    {
     "data": {
      "text/html": [
       "<div>\n",
       "<style scoped>\n",
       "    .dataframe tbody tr th:only-of-type {\n",
       "        vertical-align: middle;\n",
       "    }\n",
       "\n",
       "    .dataframe tbody tr th {\n",
       "        vertical-align: top;\n",
       "    }\n",
       "\n",
       "    .dataframe thead th {\n",
       "        text-align: right;\n",
       "    }\n",
       "</style>\n",
       "<table border=\"1\" class=\"dataframe\">\n",
       "  <thead>\n",
       "    <tr style=\"text-align: right;\">\n",
       "      <th></th>\n",
       "      <th>product_id</th>\n",
       "      <th>product_name</th>\n",
       "      <th>aisle_id</th>\n",
       "      <th>department_id</th>\n",
       "      <th>prices</th>\n",
       "    </tr>\n",
       "  </thead>\n",
       "  <tbody>\n",
       "    <tr>\n",
       "      <th>462</th>\n",
       "      <td>462</td>\n",
       "      <td>Fiber 4g Gummy Dietary Supplement</td>\n",
       "      <td>70</td>\n",
       "      <td>11</td>\n",
       "      <td>4.8</td>\n",
       "    </tr>\n",
       "    <tr>\n",
       "      <th>18459</th>\n",
       "      <td>18458</td>\n",
       "      <td>Ranger IPA</td>\n",
       "      <td>27</td>\n",
       "      <td>5</td>\n",
       "      <td>9.2</td>\n",
       "    </tr>\n",
       "    <tr>\n",
       "      <th>26810</th>\n",
       "      <td>26808</td>\n",
       "      <td>Black House Coffee Roasty Stout Beer</td>\n",
       "      <td>27</td>\n",
       "      <td>5</td>\n",
       "      <td>13.4</td>\n",
       "    </tr>\n",
       "    <tr>\n",
       "      <th>35309</th>\n",
       "      <td>35306</td>\n",
       "      <td>Gluten Free Organic Peanut Butter &amp; Chocolate ...</td>\n",
       "      <td>121</td>\n",
       "      <td>14</td>\n",
       "      <td>6.8</td>\n",
       "    </tr>\n",
       "    <tr>\n",
       "      <th>35495</th>\n",
       "      <td>35491</td>\n",
       "      <td>Adore Forever Body Wash</td>\n",
       "      <td>127</td>\n",
       "      <td>11</td>\n",
       "      <td>9.9</td>\n",
       "    </tr>\n",
       "  </tbody>\n",
       "</table>\n",
       "</div>"
      ],
      "text/plain": [
       "       product_id                                       product_name  \\\n",
       "462           462                  Fiber 4g Gummy Dietary Supplement   \n",
       "18459       18458                                         Ranger IPA   \n",
       "26810       26808               Black House Coffee Roasty Stout Beer   \n",
       "35309       35306  Gluten Free Organic Peanut Butter & Chocolate ...   \n",
       "35495       35491                            Adore Forever Body Wash   \n",
       "\n",
       "       aisle_id  department_id  prices  \n",
       "462          70             11     4.8  \n",
       "18459        27              5     9.2  \n",
       "26810        27              5    13.4  \n",
       "35309       121             14     6.8  \n",
       "35495       127             11     9.9  "
      ]
     },
     "execution_count": 251,
     "metadata": {},
     "output_type": "execute_result"
    }
   ],
   "source": [
    "# Executed the command. This will display all the duplicate rows within your dataframe.\n",
    "df_dups"
   ]
  },
  {
   "cell_type": "code",
   "execution_count": 102,
   "id": "b17cc760-994b-4528-90d6-aa73b319414c",
   "metadata": {},
   "outputs": [],
   "source": [
    "# You’ve now located your duplicate rows. Great! All that’s left is to address them."
   ]
  },
  {
   "cell_type": "markdown",
   "id": "e697b663-0f98-46a1-9d56-9ad965f21d5a",
   "metadata": {},
   "source": [
    "## Addressing Duplicates"
   ]
  },
  {
   "cell_type": "code",
   "execution_count": 121,
   "id": "152289a0-168d-49bd-918a-5fab2b68341e",
   "metadata": {},
   "outputs": [],
   "source": [
    "# Now that you’ve identified the duplicate rows within your dataframe, you need to delete them.\n",
    "# Command: df_dups.drop_duplicates()"
   ]
  },
  {
   "cell_type": "code",
   "execution_count": 129,
   "id": "f45f5acb-b3df-423c-bb21-697ab0bc0d80",
   "metadata": {},
   "outputs": [
    {
     "data": {
      "text/plain": [
       "(49677, 5)"
      ]
     },
     "execution_count": 129,
     "metadata": {},
     "output_type": "execute_result"
    }
   ],
   "source": [
    "# Before doing so, let’s check the current number of rows in your\n",
    "df_prods_clean.shape"
   ]
  },
  {
   "cell_type": "code",
   "execution_count": 131,
   "id": "cbb74bb6-eb86-4609-822d-53f9cd457510",
   "metadata": {},
   "outputs": [],
   "source": [
    "# Next, create a new dataframe that doesn’t include the duplicates you just identified using the drop_duplicates() function:\n",
    "df_prods_clean_no_dups = df_prods_clean.drop_duplicates()"
   ]
  },
  {
   "cell_type": "code",
   "execution_count": 133,
   "id": "affe035f-0423-4a9f-8bfa-46d7636e91d1",
   "metadata": {},
   "outputs": [
    {
     "data": {
      "text/plain": [
       "(49672, 5)"
      ]
     },
     "execution_count": 133,
     "metadata": {},
     "output_type": "execute_result"
    }
   ],
   "source": [
    "df_prods_clean_no_dups.shape"
   ]
  },
  {
   "cell_type": "code",
   "execution_count": 140,
   "id": "7293d4f7-e72b-4401-ab64-b4ea2cc8fb46",
   "metadata": {},
   "outputs": [],
   "source": [
    "# there are exactly five fewer rows: The duplicates are gone!"
   ]
  },
  {
   "cell_type": "markdown",
   "id": "679cb91a-71c6-4848-9f71-e5d14fa96e85",
   "metadata": {},
   "source": [
    "#"
   ]
  },
  {
   "cell_type": "markdown",
   "id": "f153bc65-59bb-439c-b187-c4bfb7ddb449",
   "metadata": {},
   "source": [
    "# Tidying Up and Exporting Changes"
   ]
  },
  {
   "cell_type": "code",
   "execution_count": 143,
   "id": "08756c9b-f462-4432-9093-07e192133625",
   "metadata": {},
   "outputs": [],
   "source": [
    "# The export command takes the following syntax:\n",
    "df_prods.to_csv(os.path.join(path, '02 Data','Prepared Data', 'products_checked.csv'))"
   ]
  },
  {
   "cell_type": "markdown",
   "id": "51762906-4827-4d33-a52a-502904c321f3",
   "metadata": {},
   "source": [
    "#"
   ]
  },
  {
   "cell_type": "markdown",
   "id": "04938b4b-7dfc-458c-af04-0735ce126244",
   "metadata": {},
   "source": [
    "# Tasks 4.5: Data Consistency Checks"
   ]
  },
  {
   "cell_type": "markdown",
   "id": "994a88f9-d5cd-4569-8e51-0a25a4c4f856",
   "metadata": {},
   "source": [
    "## Task 2)"
   ]
  },
  {
   "cell_type": "code",
   "execution_count": 147,
   "id": "0004939e-88e6-4a4c-b93b-6966db7324ce",
   "metadata": {},
   "outputs": [
    {
     "data": {
      "text/html": [
       "<div>\n",
       "<style scoped>\n",
       "    .dataframe tbody tr th:only-of-type {\n",
       "        vertical-align: middle;\n",
       "    }\n",
       "\n",
       "    .dataframe tbody tr th {\n",
       "        vertical-align: top;\n",
       "    }\n",
       "\n",
       "    .dataframe thead th {\n",
       "        text-align: right;\n",
       "    }\n",
       "</style>\n",
       "<table border=\"1\" class=\"dataframe\">\n",
       "  <thead>\n",
       "    <tr style=\"text-align: right;\">\n",
       "      <th></th>\n",
       "      <th>Unnamed: 0</th>\n",
       "      <th>order_id</th>\n",
       "      <th>user_id</th>\n",
       "      <th>order_number</th>\n",
       "      <th>orders_day_of_week</th>\n",
       "      <th>order_hour_of_day</th>\n",
       "      <th>days_po</th>\n",
       "    </tr>\n",
       "  </thead>\n",
       "  <tbody>\n",
       "    <tr>\n",
       "      <th>count</th>\n",
       "      <td>3.421083e+06</td>\n",
       "      <td>3.421083e+06</td>\n",
       "      <td>3.421083e+06</td>\n",
       "      <td>3.421083e+06</td>\n",
       "      <td>3.421083e+06</td>\n",
       "      <td>3.421083e+06</td>\n",
       "      <td>3.214874e+06</td>\n",
       "    </tr>\n",
       "    <tr>\n",
       "      <th>mean</th>\n",
       "      <td>1.710541e+06</td>\n",
       "      <td>1.710542e+06</td>\n",
       "      <td>1.029782e+05</td>\n",
       "      <td>1.715486e+01</td>\n",
       "      <td>2.776219e+00</td>\n",
       "      <td>1.345202e+01</td>\n",
       "      <td>1.111484e+01</td>\n",
       "    </tr>\n",
       "    <tr>\n",
       "      <th>std</th>\n",
       "      <td>9.875817e+05</td>\n",
       "      <td>9.875817e+05</td>\n",
       "      <td>5.953372e+04</td>\n",
       "      <td>1.773316e+01</td>\n",
       "      <td>2.046829e+00</td>\n",
       "      <td>4.226088e+00</td>\n",
       "      <td>9.206737e+00</td>\n",
       "    </tr>\n",
       "    <tr>\n",
       "      <th>min</th>\n",
       "      <td>0.000000e+00</td>\n",
       "      <td>1.000000e+00</td>\n",
       "      <td>1.000000e+00</td>\n",
       "      <td>1.000000e+00</td>\n",
       "      <td>0.000000e+00</td>\n",
       "      <td>0.000000e+00</td>\n",
       "      <td>0.000000e+00</td>\n",
       "    </tr>\n",
       "    <tr>\n",
       "      <th>25%</th>\n",
       "      <td>8.552705e+05</td>\n",
       "      <td>8.552715e+05</td>\n",
       "      <td>5.139400e+04</td>\n",
       "      <td>5.000000e+00</td>\n",
       "      <td>1.000000e+00</td>\n",
       "      <td>1.000000e+01</td>\n",
       "      <td>4.000000e+00</td>\n",
       "    </tr>\n",
       "    <tr>\n",
       "      <th>50%</th>\n",
       "      <td>1.710541e+06</td>\n",
       "      <td>1.710542e+06</td>\n",
       "      <td>1.026890e+05</td>\n",
       "      <td>1.100000e+01</td>\n",
       "      <td>3.000000e+00</td>\n",
       "      <td>1.300000e+01</td>\n",
       "      <td>7.000000e+00</td>\n",
       "    </tr>\n",
       "    <tr>\n",
       "      <th>75%</th>\n",
       "      <td>2.565812e+06</td>\n",
       "      <td>2.565812e+06</td>\n",
       "      <td>1.543850e+05</td>\n",
       "      <td>2.300000e+01</td>\n",
       "      <td>5.000000e+00</td>\n",
       "      <td>1.600000e+01</td>\n",
       "      <td>1.500000e+01</td>\n",
       "    </tr>\n",
       "    <tr>\n",
       "      <th>max</th>\n",
       "      <td>3.421082e+06</td>\n",
       "      <td>3.421083e+06</td>\n",
       "      <td>2.062090e+05</td>\n",
       "      <td>1.000000e+02</td>\n",
       "      <td>6.000000e+00</td>\n",
       "      <td>2.300000e+01</td>\n",
       "      <td>3.000000e+01</td>\n",
       "    </tr>\n",
       "  </tbody>\n",
       "</table>\n",
       "</div>"
      ],
      "text/plain": [
       "         Unnamed: 0      order_id       user_id  order_number  \\\n",
       "count  3.421083e+06  3.421083e+06  3.421083e+06  3.421083e+06   \n",
       "mean   1.710541e+06  1.710542e+06  1.029782e+05  1.715486e+01   \n",
       "std    9.875817e+05  9.875817e+05  5.953372e+04  1.773316e+01   \n",
       "min    0.000000e+00  1.000000e+00  1.000000e+00  1.000000e+00   \n",
       "25%    8.552705e+05  8.552715e+05  5.139400e+04  5.000000e+00   \n",
       "50%    1.710541e+06  1.710542e+06  1.026890e+05  1.100000e+01   \n",
       "75%    2.565812e+06  2.565812e+06  1.543850e+05  2.300000e+01   \n",
       "max    3.421082e+06  3.421083e+06  2.062090e+05  1.000000e+02   \n",
       "\n",
       "       orders_day_of_week  order_hour_of_day       days_po  \n",
       "count        3.421083e+06       3.421083e+06  3.214874e+06  \n",
       "mean         2.776219e+00       1.345202e+01  1.111484e+01  \n",
       "std          2.046829e+00       4.226088e+00  9.206737e+00  \n",
       "min          0.000000e+00       0.000000e+00  0.000000e+00  \n",
       "25%          1.000000e+00       1.000000e+01  4.000000e+00  \n",
       "50%          3.000000e+00       1.300000e+01  7.000000e+00  \n",
       "75%          5.000000e+00       1.600000e+01  1.500000e+01  \n",
       "max          6.000000e+00       2.300000e+01  3.000000e+01  "
      ]
     },
     "execution_count": 147,
     "metadata": {},
     "output_type": "execute_result"
    }
   ],
   "source": [
    "# The df.describe() function returns descriptive statistics for the numeric values in your dataframe.\n",
    "df_ords.describe()"
   ]
  },
  {
   "cell_type": "code",
   "execution_count": 282,
   "id": "819b510c-af3a-4348-aa14-8325e608b22f",
   "metadata": {},
   "outputs": [],
   "source": [
    "### Observations from df.describe() Output\n",
    "### After running the df.describe() function on df_ords, the following observations can be made:\n",
    "\n",
    "### 1) Potential Missing or Incorrect Values:\n",
    "###    - The column days_po has a lower count (3.214874e+06) compared to other columns (3.421083e+06), indicating missing values that should be investigated.\n",
    "###    - The orders_day_of_week column has a min value of 0, while days of the week are usually coded from 1 to 7 or 0 to 6. If 0 is not part of the expected range, this might indicate an error.\n",
    "###    - The order_hour_of_day column also has a min value of 0, which could mean missing or placeholder values.\n",
    "\n",
    "### 2) Unusual Ranges:\n",
    "###    - The order_number column ranges from 1 to 100, which seems reasonable if this represents sequential order numbers per user.\n",
    "###    - The order_hour_of_day values range from 0 to 23, which aligns with expected values for hours in a day.\n",
    "###    - The user_id values have a high standard deviation, indicating a large spread of users.\n",
    "\n",
    "### 3) Potentially Unnecessary Column:\n",
    "###    - The Unnamed: 0 column appears to be an index or duplicate ID. If it does not provide meaningful information, it can likely be dropped."
   ]
  },
  {
   "cell_type": "markdown",
   "id": "a2a33050-b6fa-47b3-8f09-65ac4fa406e7",
   "metadata": {},
   "source": [
    "#"
   ]
  },
  {
   "cell_type": "markdown",
   "id": "5a0e908a-28ba-4b06-8c73-a1aec5eb1427",
   "metadata": {},
   "source": [
    "# Task 3) Looking for mixed Data"
   ]
  },
  {
   "cell_type": "code",
   "execution_count": 160,
   "id": "16951f6d-23e4-401d-9313-5b3614074c7f",
   "metadata": {},
   "outputs": [
    {
     "data": {
      "text/html": [
       "<div>\n",
       "<style scoped>\n",
       "    .dataframe tbody tr th:only-of-type {\n",
       "        vertical-align: middle;\n",
       "    }\n",
       "\n",
       "    .dataframe tbody tr th {\n",
       "        vertical-align: top;\n",
       "    }\n",
       "\n",
       "    .dataframe thead th {\n",
       "        text-align: right;\n",
       "    }\n",
       "</style>\n",
       "<table border=\"1\" class=\"dataframe\">\n",
       "  <thead>\n",
       "    <tr style=\"text-align: right;\">\n",
       "      <th></th>\n",
       "      <th>Unnamed: 0</th>\n",
       "      <th>order_id</th>\n",
       "      <th>user_id</th>\n",
       "      <th>eval_set</th>\n",
       "      <th>order_number</th>\n",
       "      <th>orders_day_of_week</th>\n",
       "      <th>order_hour_of_day</th>\n",
       "      <th>days_po</th>\n",
       "    </tr>\n",
       "  </thead>\n",
       "  <tbody>\n",
       "    <tr>\n",
       "      <th>0</th>\n",
       "      <td>0</td>\n",
       "      <td>2539329</td>\n",
       "      <td>1</td>\n",
       "      <td>prior</td>\n",
       "      <td>1</td>\n",
       "      <td>2</td>\n",
       "      <td>8</td>\n",
       "      <td>NaN</td>\n",
       "    </tr>\n",
       "    <tr>\n",
       "      <th>1</th>\n",
       "      <td>1</td>\n",
       "      <td>2398795</td>\n",
       "      <td>1</td>\n",
       "      <td>prior</td>\n",
       "      <td>2</td>\n",
       "      <td>3</td>\n",
       "      <td>7</td>\n",
       "      <td>15.0</td>\n",
       "    </tr>\n",
       "    <tr>\n",
       "      <th>2</th>\n",
       "      <td>2</td>\n",
       "      <td>473747</td>\n",
       "      <td>1</td>\n",
       "      <td>prior</td>\n",
       "      <td>3</td>\n",
       "      <td>3</td>\n",
       "      <td>12</td>\n",
       "      <td>21.0</td>\n",
       "    </tr>\n",
       "    <tr>\n",
       "      <th>3</th>\n",
       "      <td>3</td>\n",
       "      <td>2254736</td>\n",
       "      <td>1</td>\n",
       "      <td>prior</td>\n",
       "      <td>4</td>\n",
       "      <td>4</td>\n",
       "      <td>7</td>\n",
       "      <td>29.0</td>\n",
       "    </tr>\n",
       "    <tr>\n",
       "      <th>4</th>\n",
       "      <td>4</td>\n",
       "      <td>431534</td>\n",
       "      <td>1</td>\n",
       "      <td>prior</td>\n",
       "      <td>5</td>\n",
       "      <td>4</td>\n",
       "      <td>15</td>\n",
       "      <td>28.0</td>\n",
       "    </tr>\n",
       "  </tbody>\n",
       "</table>\n",
       "</div>"
      ],
      "text/plain": [
       "   Unnamed: 0  order_id  user_id eval_set  order_number  orders_day_of_week  \\\n",
       "0           0   2539329        1    prior             1                   2   \n",
       "1           1   2398795        1    prior             2                   3   \n",
       "2           2    473747        1    prior             3                   3   \n",
       "3           3   2254736        1    prior             4                   4   \n",
       "4           4    431534        1    prior             5                   4   \n",
       "\n",
       "   order_hour_of_day  days_po  \n",
       "0                  8      NaN  \n",
       "1                  7     15.0  \n",
       "2                 12     21.0  \n",
       "3                  7     29.0  \n",
       "4                 15     28.0  "
      ]
     },
     "execution_count": 160,
     "metadata": {},
     "output_type": "execute_result"
    }
   ],
   "source": [
    "# Use head() function to see the df_ords dataframe:\n",
    "df_ords.head()"
   ]
  },
  {
   "cell_type": "code",
   "execution_count": 162,
   "id": "c32a3606-b1f9-4ee1-a2ae-ff3f19b29032",
   "metadata": {},
   "outputs": [
    {
     "name": "stderr",
     "output_type": "stream",
     "text": [
      "/var/folders/_l/9n60r5ks59sd8bty6knfk2g40000gn/T/ipykernel_91285/1469702764.py:3: FutureWarning: DataFrame.applymap has been deprecated. Use DataFrame.map instead.\n",
      "  weird = (df_ords[[col]].applymap(type) != df_ords[[col]].iloc[0].apply(type)).any(axis = 1)\n",
      "/var/folders/_l/9n60r5ks59sd8bty6knfk2g40000gn/T/ipykernel_91285/1469702764.py:3: FutureWarning: DataFrame.applymap has been deprecated. Use DataFrame.map instead.\n",
      "  weird = (df_ords[[col]].applymap(type) != df_ords[[col]].iloc[0].apply(type)).any(axis = 1)\n",
      "/var/folders/_l/9n60r5ks59sd8bty6knfk2g40000gn/T/ipykernel_91285/1469702764.py:3: FutureWarning: DataFrame.applymap has been deprecated. Use DataFrame.map instead.\n",
      "  weird = (df_ords[[col]].applymap(type) != df_ords[[col]].iloc[0].apply(type)).any(axis = 1)\n",
      "/var/folders/_l/9n60r5ks59sd8bty6knfk2g40000gn/T/ipykernel_91285/1469702764.py:3: FutureWarning: DataFrame.applymap has been deprecated. Use DataFrame.map instead.\n",
      "  weird = (df_ords[[col]].applymap(type) != df_ords[[col]].iloc[0].apply(type)).any(axis = 1)\n",
      "/var/folders/_l/9n60r5ks59sd8bty6knfk2g40000gn/T/ipykernel_91285/1469702764.py:3: FutureWarning: DataFrame.applymap has been deprecated. Use DataFrame.map instead.\n",
      "  weird = (df_ords[[col]].applymap(type) != df_ords[[col]].iloc[0].apply(type)).any(axis = 1)\n",
      "/var/folders/_l/9n60r5ks59sd8bty6knfk2g40000gn/T/ipykernel_91285/1469702764.py:3: FutureWarning: DataFrame.applymap has been deprecated. Use DataFrame.map instead.\n",
      "  weird = (df_ords[[col]].applymap(type) != df_ords[[col]].iloc[0].apply(type)).any(axis = 1)\n",
      "/var/folders/_l/9n60r5ks59sd8bty6knfk2g40000gn/T/ipykernel_91285/1469702764.py:3: FutureWarning: DataFrame.applymap has been deprecated. Use DataFrame.map instead.\n",
      "  weird = (df_ords[[col]].applymap(type) != df_ords[[col]].iloc[0].apply(type)).any(axis = 1)\n",
      "/var/folders/_l/9n60r5ks59sd8bty6knfk2g40000gn/T/ipykernel_91285/1469702764.py:3: FutureWarning: DataFrame.applymap has been deprecated. Use DataFrame.map instead.\n",
      "  weird = (df_ords[[col]].applymap(type) != df_ords[[col]].iloc[0].apply(type)).any(axis = 1)\n"
     ]
    }
   ],
   "source": [
    "# Check for mixed types\n",
    "for col in df_ords.columns.tolist():\n",
    "  weird = (df_ords[[col]].applymap(type) != df_ords[[col]].iloc[0].apply(type)).any(axis = 1)\n",
    "  if len (df_ords[weird]) > 0:\n",
    "    print (col)  "
   ]
  },
  {
   "cell_type": "code",
   "execution_count": 286,
   "id": "c97221d4-c63a-4065-99a2-5e492a626527",
   "metadata": {},
   "outputs": [
    {
     "name": "stdout",
     "output_type": "stream",
     "text": [
      "<class 'pandas.core.frame.DataFrame'>\n",
      "RangeIndex: 3421083 entries, 0 to 3421082\n",
      "Data columns (total 8 columns):\n",
      " #   Column              Dtype  \n",
      "---  ------              -----  \n",
      " 0   Unnamed: 0          int64  \n",
      " 1   order_id            int64  \n",
      " 2   user_id             int64  \n",
      " 3   eval_set            object \n",
      " 4   order_number        object \n",
      " 5   orders_day_of_week  int64  \n",
      " 6   order_hour_of_day   int64  \n",
      " 7   days_po             float64\n",
      "dtypes: float64(1), int64(5), object(2)\n",
      "memory usage: 208.8+ MB\n"
     ]
    }
   ],
   "source": [
    "#Checking the data types of all the columns in the df_ords dataframe\n",
    "df_ords.info()"
   ]
  },
  {
   "cell_type": "code",
   "execution_count": 177,
   "id": "0b3aacaf-5447-4c7d-b33e-aa036511cd2c",
   "metadata": {},
   "outputs": [],
   "source": [
    "# The new result shows that almost all columns in the df_ords DataFrame contain mixed data types!"
   ]
  },
  {
   "cell_type": "markdown",
   "id": "bc90f489-20a1-4a60-a270-7911ab412dd6",
   "metadata": {},
   "source": [
    "#"
   ]
  },
  {
   "cell_type": "markdown",
   "id": "fedf4a73-a068-44dc-b665-30d3c2a1eee4",
   "metadata": {},
   "source": [
    "## Task 4) Fix mixed data"
   ]
  },
  {
   "cell_type": "code",
   "execution_count": 289,
   "id": "54112185-66a2-4983-bb88-f0438182b592",
   "metadata": {},
   "outputs": [],
   "source": [
    "# 2. Convert mixed types into a standardised type\n",
    "\n",
    " # If numeric columns have int and float values:\n",
    "df_ords[\"order_number\"] = df_ords[\"order_number\"].astype(float)\n",
    "\n",
    "# If numeric columns incorrectly contain str values:\n",
    "df_ords[\"order_number\"] = pd.to_numeric(df_ords[\"order_number\"], errors='coerce') \n",
    "\n",
    "# If you want to save all values in a column as str:\n",
    "df_ords[\"order_number\"] = df_ords[\"order_number\"].astype(str)"
   ]
  },
  {
   "cell_type": "code",
   "execution_count": 291,
   "id": "6516848f-0e50-4f1d-9fb8-34e60c8d93f4",
   "metadata": {},
   "outputs": [
    {
     "data": {
      "text/plain": [
       "Unnamed: 0              int64\n",
       "order_id                int64\n",
       "user_id                 int64\n",
       "eval_set               object\n",
       "order_number           object\n",
       "orders_day_of_week      int64\n",
       "order_hour_of_day       int64\n",
       "days_po               float64\n",
       "dtype: object"
      ]
     },
     "execution_count": 291,
     "metadata": {},
     "output_type": "execute_result"
    }
   ],
   "source": [
    "# 3. Check the changes\n",
    "df_ords.dtypes"
   ]
  },
  {
   "cell_type": "code",
   "execution_count": 183,
   "id": "e18eb2bc-efa2-4be4-860e-dd90d5b8fcb0",
   "metadata": {},
   "outputs": [],
   "source": [
    "#...."
   ]
  },
  {
   "cell_type": "markdown",
   "id": "f944eb38-661e-4e54-be8b-88483444a046",
   "metadata": {},
   "source": [
    "#"
   ]
  },
  {
   "cell_type": "markdown",
   "id": "ee335095-a75e-450d-b3f5-d11eade9ab37",
   "metadata": {},
   "source": [
    "## Task 5) Check for missing values"
   ]
  },
  {
   "cell_type": "code",
   "execution_count": 195,
   "id": "846dcc93-0c4e-4b67-bf20-2e26ff54b697",
   "metadata": {},
   "outputs": [
    {
     "data": {
      "text/plain": [
       "Unnamed: 0                 0\n",
       "order_id                   0\n",
       "user_id                    0\n",
       "eval_set                   0\n",
       "order_number               0\n",
       "orders_day_of_week         0\n",
       "order_hour_of_day          0\n",
       "days_po               206209\n",
       "dtype: int64"
      ]
     },
     "execution_count": 195,
     "metadata": {},
     "output_type": "execute_result"
    }
   ],
   "source": [
    "# To fix missing values, you first need to be able to find them.\n",
    "df_ords.isnull().sum()"
   ]
  },
  {
   "cell_type": "code",
   "execution_count": 201,
   "id": "f9b14806-4f34-4f25-97b8-8d890e6322a0",
   "metadata": {},
   "outputs": [],
   "source": [
    "# Result: days_po is missing 206209 values!\n",
    "\n",
    "# Possible Explanation\n",
    "# The column days_po likely represents the number of days since the prior order. Missing values in this column probably indicate first-time orders, meaning that for these cases, there is no prior order to calculate the days from."
   ]
  },
  {
   "cell_type": "markdown",
   "id": "4e55fb1f-380c-432a-a4f1-a3e9f309f0de",
   "metadata": {},
   "source": [
    "#"
   ]
  },
  {
   "cell_type": "markdown",
   "id": "32355e2a-9bd9-4093-bbf1-21cc69c4a1b5",
   "metadata": {},
   "source": [
    "## Task 6) Adressing missing values (remove or filter out the missing data)"
   ]
  },
  {
   "cell_type": "code",
   "execution_count": 205,
   "id": "cd2266b8-bd0c-4598-8899-a53a53c32def",
   "metadata": {},
   "outputs": [
    {
     "data": {
      "text/plain": [
       "(3421083, 8)"
      ]
     },
     "execution_count": 205,
     "metadata": {},
     "output_type": "execute_result"
    }
   ],
   "source": [
    "# Before removing or filter out missing data\n",
    "df_ords.shape # To see the current number of rows in the dataframe"
   ]
  },
  {
   "cell_type": "code",
   "execution_count": 210,
   "id": "2cb5c140-c88d-4c59-bf4f-8a23e94238f1",
   "metadata": {},
   "outputs": [],
   "source": [
    "# The dataframe contain 3421083 rows and 8 frames before cleaning it"
   ]
  },
  {
   "cell_type": "code",
   "execution_count": 214,
   "id": "a190da73-7905-43ed-8218-6f0b8207f882",
   "metadata": {},
   "outputs": [],
   "source": [
    "# Next, create a new (clean) dataframe (SAME PROCEDURE AS ABOVE AT FINDING MISSING VALUES!)\n",
    "df_ords_clean = df_ords[df_ords['days_po'].isnull() == False]"
   ]
  },
  {
   "cell_type": "code",
   "execution_count": 216,
   "id": "33e7e4d5-b37b-416c-87e8-65096dc71e32",
   "metadata": {},
   "outputs": [
    {
     "data": {
      "text/html": [
       "<div>\n",
       "<style scoped>\n",
       "    .dataframe tbody tr th:only-of-type {\n",
       "        vertical-align: middle;\n",
       "    }\n",
       "\n",
       "    .dataframe tbody tr th {\n",
       "        vertical-align: top;\n",
       "    }\n",
       "\n",
       "    .dataframe thead th {\n",
       "        text-align: right;\n",
       "    }\n",
       "</style>\n",
       "<table border=\"1\" class=\"dataframe\">\n",
       "  <thead>\n",
       "    <tr style=\"text-align: right;\">\n",
       "      <th></th>\n",
       "      <th>Unnamed: 0</th>\n",
       "      <th>order_id</th>\n",
       "      <th>user_id</th>\n",
       "      <th>eval_set</th>\n",
       "      <th>order_number</th>\n",
       "      <th>orders_day_of_week</th>\n",
       "      <th>order_hour_of_day</th>\n",
       "      <th>days_po</th>\n",
       "    </tr>\n",
       "  </thead>\n",
       "  <tbody>\n",
       "    <tr>\n",
       "      <th>1</th>\n",
       "      <td>1</td>\n",
       "      <td>2398795</td>\n",
       "      <td>1</td>\n",
       "      <td>prior</td>\n",
       "      <td>2.0</td>\n",
       "      <td>3</td>\n",
       "      <td>7</td>\n",
       "      <td>15.0</td>\n",
       "    </tr>\n",
       "    <tr>\n",
       "      <th>2</th>\n",
       "      <td>2</td>\n",
       "      <td>473747</td>\n",
       "      <td>1</td>\n",
       "      <td>prior</td>\n",
       "      <td>3.0</td>\n",
       "      <td>3</td>\n",
       "      <td>12</td>\n",
       "      <td>21.0</td>\n",
       "    </tr>\n",
       "    <tr>\n",
       "      <th>3</th>\n",
       "      <td>3</td>\n",
       "      <td>2254736</td>\n",
       "      <td>1</td>\n",
       "      <td>prior</td>\n",
       "      <td>4.0</td>\n",
       "      <td>4</td>\n",
       "      <td>7</td>\n",
       "      <td>29.0</td>\n",
       "    </tr>\n",
       "    <tr>\n",
       "      <th>4</th>\n",
       "      <td>4</td>\n",
       "      <td>431534</td>\n",
       "      <td>1</td>\n",
       "      <td>prior</td>\n",
       "      <td>5.0</td>\n",
       "      <td>4</td>\n",
       "      <td>15</td>\n",
       "      <td>28.0</td>\n",
       "    </tr>\n",
       "    <tr>\n",
       "      <th>5</th>\n",
       "      <td>5</td>\n",
       "      <td>3367565</td>\n",
       "      <td>1</td>\n",
       "      <td>prior</td>\n",
       "      <td>6.0</td>\n",
       "      <td>2</td>\n",
       "      <td>7</td>\n",
       "      <td>19.0</td>\n",
       "    </tr>\n",
       "    <tr>\n",
       "      <th>...</th>\n",
       "      <td>...</td>\n",
       "      <td>...</td>\n",
       "      <td>...</td>\n",
       "      <td>...</td>\n",
       "      <td>...</td>\n",
       "      <td>...</td>\n",
       "      <td>...</td>\n",
       "      <td>...</td>\n",
       "    </tr>\n",
       "    <tr>\n",
       "      <th>3421078</th>\n",
       "      <td>3421078</td>\n",
       "      <td>2266710</td>\n",
       "      <td>206209</td>\n",
       "      <td>prior</td>\n",
       "      <td>10.0</td>\n",
       "      <td>5</td>\n",
       "      <td>18</td>\n",
       "      <td>29.0</td>\n",
       "    </tr>\n",
       "    <tr>\n",
       "      <th>3421079</th>\n",
       "      <td>3421079</td>\n",
       "      <td>1854736</td>\n",
       "      <td>206209</td>\n",
       "      <td>prior</td>\n",
       "      <td>11.0</td>\n",
       "      <td>4</td>\n",
       "      <td>10</td>\n",
       "      <td>30.0</td>\n",
       "    </tr>\n",
       "    <tr>\n",
       "      <th>3421080</th>\n",
       "      <td>3421080</td>\n",
       "      <td>626363</td>\n",
       "      <td>206209</td>\n",
       "      <td>prior</td>\n",
       "      <td>12.0</td>\n",
       "      <td>1</td>\n",
       "      <td>12</td>\n",
       "      <td>18.0</td>\n",
       "    </tr>\n",
       "    <tr>\n",
       "      <th>3421081</th>\n",
       "      <td>3421081</td>\n",
       "      <td>2977660</td>\n",
       "      <td>206209</td>\n",
       "      <td>prior</td>\n",
       "      <td>13.0</td>\n",
       "      <td>1</td>\n",
       "      <td>12</td>\n",
       "      <td>7.0</td>\n",
       "    </tr>\n",
       "    <tr>\n",
       "      <th>3421082</th>\n",
       "      <td>3421082</td>\n",
       "      <td>272231</td>\n",
       "      <td>206209</td>\n",
       "      <td>train</td>\n",
       "      <td>14.0</td>\n",
       "      <td>6</td>\n",
       "      <td>14</td>\n",
       "      <td>30.0</td>\n",
       "    </tr>\n",
       "  </tbody>\n",
       "</table>\n",
       "<p>3214874 rows × 8 columns</p>\n",
       "</div>"
      ],
      "text/plain": [
       "         Unnamed: 0  order_id  user_id eval_set order_number  \\\n",
       "1                 1   2398795        1    prior          2.0   \n",
       "2                 2    473747        1    prior          3.0   \n",
       "3                 3   2254736        1    prior          4.0   \n",
       "4                 4    431534        1    prior          5.0   \n",
       "5                 5   3367565        1    prior          6.0   \n",
       "...             ...       ...      ...      ...          ...   \n",
       "3421078     3421078   2266710   206209    prior         10.0   \n",
       "3421079     3421079   1854736   206209    prior         11.0   \n",
       "3421080     3421080    626363   206209    prior         12.0   \n",
       "3421081     3421081   2977660   206209    prior         13.0   \n",
       "3421082     3421082    272231   206209    train         14.0   \n",
       "\n",
       "         orders_day_of_week  order_hour_of_day  days_po  \n",
       "1                         3                  7     15.0  \n",
       "2                         3                 12     21.0  \n",
       "3                         4                  7     29.0  \n",
       "4                         4                 15     28.0  \n",
       "5                         2                  7     19.0  \n",
       "...                     ...                ...      ...  \n",
       "3421078                   5                 18     29.0  \n",
       "3421079                   4                 10     30.0  \n",
       "3421080                   1                 12     18.0  \n",
       "3421081                   1                 12      7.0  \n",
       "3421082                   6                 14     30.0  \n",
       "\n",
       "[3214874 rows x 8 columns]"
      ]
     },
     "execution_count": 216,
     "metadata": {},
     "output_type": "execute_result"
    }
   ],
   "source": [
    "# Next, check the new (clean) dataframe\n",
    "df_ords_clean"
   ]
  },
  {
   "cell_type": "code",
   "execution_count": 218,
   "id": "d7ee73f3-ed64-4092-b6a0-9434711496bd",
   "metadata": {},
   "outputs": [],
   "source": [
    "# The new \"cleaned\" dataframe shows 3214874 rows! (3421083 - 206209 = 3214874)"
   ]
  },
  {
   "cell_type": "markdown",
   "id": "bba97cb5-db25-4ee8-bb7a-857e853a8f45",
   "metadata": {},
   "source": [
    "#"
   ]
  },
  {
   "cell_type": "markdown",
   "id": "22622061-3d26-4e04-b513-8c4d6189aa48",
   "metadata": {},
   "source": [
    "## Task 7) Check for duplicate values "
   ]
  },
  {
   "cell_type": "code",
   "execution_count": 261,
   "id": "2a696ee9-0b78-4b03-99c2-46b6b51cdc9b",
   "metadata": {},
   "outputs": [],
   "source": [
    "# The following command will look for full duplicates within your dataframe:\n",
    "df_dups_ords = df_ords_clean[df_ords_clean.duplicated()]"
   ]
  },
  {
   "cell_type": "code",
   "execution_count": 263,
   "id": "7fc8b942-365d-420b-9124-ed8038d9f1a9",
   "metadata": {},
   "outputs": [
    {
     "data": {
      "text/html": [
       "<div>\n",
       "<style scoped>\n",
       "    .dataframe tbody tr th:only-of-type {\n",
       "        vertical-align: middle;\n",
       "    }\n",
       "\n",
       "    .dataframe tbody tr th {\n",
       "        vertical-align: top;\n",
       "    }\n",
       "\n",
       "    .dataframe thead th {\n",
       "        text-align: right;\n",
       "    }\n",
       "</style>\n",
       "<table border=\"1\" class=\"dataframe\">\n",
       "  <thead>\n",
       "    <tr style=\"text-align: right;\">\n",
       "      <th></th>\n",
       "      <th>Unnamed: 0</th>\n",
       "      <th>order_id</th>\n",
       "      <th>user_id</th>\n",
       "      <th>eval_set</th>\n",
       "      <th>order_number</th>\n",
       "      <th>orders_day_of_week</th>\n",
       "      <th>order_hour_of_day</th>\n",
       "      <th>days_po</th>\n",
       "    </tr>\n",
       "  </thead>\n",
       "  <tbody>\n",
       "  </tbody>\n",
       "</table>\n",
       "</div>"
      ],
      "text/plain": [
       "Empty DataFrame\n",
       "Columns: [Unnamed: 0, order_id, user_id, eval_set, order_number, orders_day_of_week, order_hour_of_day, days_po]\n",
       "Index: []"
      ]
     },
     "execution_count": 263,
     "metadata": {},
     "output_type": "execute_result"
    }
   ],
   "source": [
    "df_dups_ords"
   ]
  },
  {
   "cell_type": "code",
   "execution_count": 265,
   "id": "e60e0118-aab9-4373-a421-f4f1ed21d3a3",
   "metadata": {},
   "outputs": [],
   "source": [
    "# This result looks strange"
   ]
  },
  {
   "cell_type": "code",
   "execution_count": 269,
   "id": "6e8e83ab-827d-4a7e-a4da-3d75d4539cbf",
   "metadata": {},
   "outputs": [
    {
     "data": {
      "text/plain": [
       "0"
      ]
     },
     "execution_count": 269,
     "metadata": {},
     "output_type": "execute_result"
    }
   ],
   "source": [
    "# Check: Are there any duplicates at all?\n",
    "df_ords_clean.duplicated().sum()"
   ]
  },
  {
   "cell_type": "code",
   "execution_count": 271,
   "id": "5684daa6-bfa0-469b-ad81-9e6e8682cabd",
   "metadata": {},
   "outputs": [],
   "source": [
    "# The output is 0, which means that there are no complete duplicates in the DataFrame."
   ]
  },
  {
   "cell_type": "markdown",
   "id": "7fb71698-2bea-47ad-b7a7-f70712e807d2",
   "metadata": {},
   "source": [
    "#"
   ]
  },
  {
   "cell_type": "markdown",
   "id": "9e4487c4-aa82-4c51-97bc-e00664680381",
   "metadata": {},
   "source": [
    "## Task 9) Tidying Up and Exporting Changes"
   ]
  },
  {
   "cell_type": "code",
   "execution_count": 277,
   "id": "7cd19735-4b36-4d06-bf88-4b37ebae7678",
   "metadata": {},
   "outputs": [],
   "source": [
    "# The export command takes the following syntax:\n",
    "df_prods.to_csv(os.path.join(path, '02 Data','Prepared Data', 'products_checked.csv'))\n",
    "df_ords.to_csv(os.path.join(path, '02 Data','Prepared Data', 'orders_checked.csv'))"
   ]
  }
 ],
 "metadata": {
  "kernelspec": {
   "display_name": "Python [conda env:base] *",
   "language": "python",
   "name": "conda-base-py"
  },
  "language_info": {
   "codemirror_mode": {
    "name": "ipython",
    "version": 3
   },
   "file_extension": ".py",
   "mimetype": "text/x-python",
   "name": "python",
   "nbconvert_exporter": "python",
   "pygments_lexer": "ipython3",
   "version": "3.12.7"
  }
 },
 "nbformat": 4,
 "nbformat_minor": 5
}
