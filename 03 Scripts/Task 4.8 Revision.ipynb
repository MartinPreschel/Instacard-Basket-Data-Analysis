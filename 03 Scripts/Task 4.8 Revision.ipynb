{
 "cells": [
  {
   "cell_type": "markdown",
   "id": "6415f2dc-4f33-4ee0-ae07-3ae773d4e452",
   "metadata": {},
   "source": [
    "# Task 1) Notebook Setup & Data Import"
   ]
  },
  {
   "cell_type": "markdown",
   "id": "c7000622-bca5-4138-bd3b-af8c5aa272b5",
   "metadata": {},
   "source": [
    "## 1.1 Importing important libraries¶"
   ]
  },
  {
   "cell_type": "code",
   "execution_count": 11,
   "id": "acd2a26e-ecc3-452d-952c-ecdae0e92fdb",
   "metadata": {},
   "outputs": [],
   "source": [
    "import pandas as pd  # For DataFrames\n",
    "import numpy as np  # For numeric calculations\n",
    "import os  # For file management"
   ]
  },
  {
   "cell_type": "markdown",
   "id": "83f26841-8608-4d10-b2c2-dec45706eeb7",
   "metadata": {},
   "source": [
    "## 1.2 Import Pickle file into Pandas"
   ]
  },
  {
   "cell_type": "code",
   "execution_count": 13,
   "id": "039bb30f-03d4-4586-8dba-45ab974d7eb9",
   "metadata": {},
   "outputs": [],
   "source": [
    "# Data set path\n",
    "\n",
    "path = r\"/Users/martin/anaconda_projects/11-02-2025 Instacart Basket Analysis\""
   ]
  },
  {
   "cell_type": "code",
   "execution_count": 14,
   "id": "a16f143d-a68b-4752-977c-d2fab5195711",
   "metadata": {},
   "outputs": [],
   "source": [
    "# Import of the \"ords_prods_merge\" data set \n",
    "\n",
    "ords_prods_merge = pd.read_pickle(os.path.join(path, '02 data' , 'Prepared Data' , 'ords_prods_merge_2.pkl')) "
   ]
  },
  {
   "cell_type": "markdown",
   "id": "a984b9b0-14a8-467a-a42d-840d74791e25",
   "metadata": {},
   "source": [
    "## 1.3 Initial overview of the DataFrame"
   ]
  },
  {
   "cell_type": "code",
   "execution_count": 16,
   "id": "30618ba8-a6ae-4e14-83db-a70bb453db33",
   "metadata": {},
   "outputs": [
    {
     "name": "stdout",
     "output_type": "stream",
     "text": [
      "   Unnamed: 0  order_id  user_id eval_set  order_number  orders_day_of_week  \\\n",
      "0           0   2539329        1    prior             1                   2   \n",
      "1           0   2539329        1    prior             1                   2   \n",
      "2           0   2539329        1    prior             1                   2   \n",
      "3           0   2539329        1    prior             1                   2   \n",
      "4           0   2539329        1    prior             1                   2   \n",
      "\n",
      "   order_hour_of_day  days_po  product_id  add_to_cart_order  reordered  \\\n",
      "0                  8      NaN         196                  1          0   \n",
      "1                  8      NaN       14084                  2          0   \n",
      "2                  8      NaN       12427                  3          0   \n",
      "3                  8      NaN       26088                  4          0   \n",
      "4                  8      NaN       26405                  5          0   \n",
      "\n",
      "  _merge                             product_name  aisle_id  department_id  \\\n",
      "0   both                                     Soda        77              7   \n",
      "1   both  Organic Unsweetened Vanilla Almond Milk        91             16   \n",
      "2   both                      Original Beef Jerky        23             19   \n",
      "3   both               Aged White Cheddar Popcorn        23             19   \n",
      "4   both         XL Pick-A-Size Paper Towel Rolls        54             17   \n",
      "\n",
      "   prices     Busiest day    Busiest days busiest_period_of_day  \n",
      "0     9.0  Regularly busy  Regularly busy        Average orders  \n",
      "1    12.5  Regularly busy  Regularly busy        Average orders  \n",
      "2     4.4  Regularly busy  Regularly busy        Average orders  \n",
      "3     4.7  Regularly busy  Regularly busy        Average orders  \n",
      "4     1.0  Regularly busy  Regularly busy        Average orders  \n"
     ]
    }
   ],
   "source": [
    "print(ords_prods_merge.head())"
   ]
  },
  {
   "cell_type": "code",
   "execution_count": 17,
   "id": "8d74c4a5-4ba5-4dff-99fc-7e860a0de5ae",
   "metadata": {},
   "outputs": [
    {
     "name": "stdout",
     "output_type": "stream",
     "text": [
      "<class 'pandas.core.frame.DataFrame'>\n",
      "RangeIndex: 32434212 entries, 0 to 32434211\n",
      "Data columns (total 19 columns):\n",
      " #   Column                 Dtype   \n",
      "---  ------                 -----   \n",
      " 0   Unnamed: 0             int64   \n",
      " 1   order_id               int64   \n",
      " 2   user_id                int64   \n",
      " 3   eval_set               object  \n",
      " 4   order_number           int64   \n",
      " 5   orders_day_of_week     int64   \n",
      " 6   order_hour_of_day      int64   \n",
      " 7   days_po                float64 \n",
      " 8   product_id             int64   \n",
      " 9   add_to_cart_order      int64   \n",
      " 10  reordered              int64   \n",
      " 11  _merge                 category\n",
      " 12  product_name           object  \n",
      " 13  aisle_id               int64   \n",
      " 14  department_id          int64   \n",
      " 15  prices                 float64 \n",
      " 16  Busiest day            object  \n",
      " 17  Busiest days           object  \n",
      " 18  busiest_period_of_day  object  \n",
      "dtypes: category(1), float64(2), int64(11), object(5)\n",
      "memory usage: 4.4+ GB\n",
      "None\n"
     ]
    }
   ],
   "source": [
    "print(ords_prods_merge.info())"
   ]
  },
  {
   "cell_type": "markdown",
   "id": "ca51f211-da6f-406b-9b50-b39c928b71f9",
   "metadata": {},
   "source": [
    "# Task 2) Aggregating Order Numbers for the Full Dataset"
   ]
  },
  {
   "cell_type": "code",
   "execution_count": 19,
   "id": "c75fe8d7-7a7d-499f-bcc3-a0d76d4097e4",
   "metadata": {},
   "outputs": [
    {
     "data": {
      "text/html": [
       "<div>\n",
       "<style scoped>\n",
       "    .dataframe tbody tr th:only-of-type {\n",
       "        vertical-align: middle;\n",
       "    }\n",
       "\n",
       "    .dataframe tbody tr th {\n",
       "        vertical-align: top;\n",
       "    }\n",
       "\n",
       "    .dataframe thead th {\n",
       "        text-align: right;\n",
       "    }\n",
       "</style>\n",
       "<table border=\"1\" class=\"dataframe\">\n",
       "  <thead>\n",
       "    <tr style=\"text-align: right;\">\n",
       "      <th></th>\n",
       "      <th>order_number</th>\n",
       "    </tr>\n",
       "    <tr>\n",
       "      <th>department_id</th>\n",
       "      <th></th>\n",
       "    </tr>\n",
       "  </thead>\n",
       "  <tbody>\n",
       "    <tr>\n",
       "      <th>1</th>\n",
       "      <td>15.457687</td>\n",
       "    </tr>\n",
       "    <tr>\n",
       "      <th>2</th>\n",
       "      <td>17.277920</td>\n",
       "    </tr>\n",
       "    <tr>\n",
       "      <th>3</th>\n",
       "      <td>17.179756</td>\n",
       "    </tr>\n",
       "    <tr>\n",
       "      <th>4</th>\n",
       "      <td>17.811403</td>\n",
       "    </tr>\n",
       "    <tr>\n",
       "      <th>5</th>\n",
       "      <td>15.213779</td>\n",
       "    </tr>\n",
       "    <tr>\n",
       "      <th>6</th>\n",
       "      <td>16.439806</td>\n",
       "    </tr>\n",
       "    <tr>\n",
       "      <th>7</th>\n",
       "      <td>17.225773</td>\n",
       "    </tr>\n",
       "    <tr>\n",
       "      <th>8</th>\n",
       "      <td>15.340520</td>\n",
       "    </tr>\n",
       "    <tr>\n",
       "      <th>9</th>\n",
       "      <td>15.895474</td>\n",
       "    </tr>\n",
       "    <tr>\n",
       "      <th>10</th>\n",
       "      <td>20.197148</td>\n",
       "    </tr>\n",
       "    <tr>\n",
       "      <th>11</th>\n",
       "      <td>16.170828</td>\n",
       "    </tr>\n",
       "    <tr>\n",
       "      <th>12</th>\n",
       "      <td>15.887622</td>\n",
       "    </tr>\n",
       "    <tr>\n",
       "      <th>13</th>\n",
       "      <td>16.583304</td>\n",
       "    </tr>\n",
       "    <tr>\n",
       "      <th>14</th>\n",
       "      <td>16.757377</td>\n",
       "    </tr>\n",
       "    <tr>\n",
       "      <th>15</th>\n",
       "      <td>16.165037</td>\n",
       "    </tr>\n",
       "    <tr>\n",
       "      <th>16</th>\n",
       "      <td>17.663250</td>\n",
       "    </tr>\n",
       "    <tr>\n",
       "      <th>17</th>\n",
       "      <td>15.694469</td>\n",
       "    </tr>\n",
       "    <tr>\n",
       "      <th>18</th>\n",
       "      <td>19.310397</td>\n",
       "    </tr>\n",
       "    <tr>\n",
       "      <th>19</th>\n",
       "      <td>17.177343</td>\n",
       "    </tr>\n",
       "    <tr>\n",
       "      <th>20</th>\n",
       "      <td>16.473447</td>\n",
       "    </tr>\n",
       "    <tr>\n",
       "      <th>21</th>\n",
       "      <td>22.902379</td>\n",
       "    </tr>\n",
       "  </tbody>\n",
       "</table>\n",
       "</div>"
      ],
      "text/plain": [
       "               order_number\n",
       "department_id              \n",
       "1                 15.457687\n",
       "2                 17.277920\n",
       "3                 17.179756\n",
       "4                 17.811403\n",
       "5                 15.213779\n",
       "6                 16.439806\n",
       "7                 17.225773\n",
       "8                 15.340520\n",
       "9                 15.895474\n",
       "10                20.197148\n",
       "11                16.170828\n",
       "12                15.887622\n",
       "13                16.583304\n",
       "14                16.757377\n",
       "15                16.165037\n",
       "16                17.663250\n",
       "17                15.694469\n",
       "18                19.310397\n",
       "19                17.177343\n",
       "20                16.473447\n",
       "21                22.902379"
      ]
     },
     "execution_count": 19,
     "metadata": {},
     "output_type": "execute_result"
    }
   ],
   "source": [
    "# Calculate average number of orders per department\n",
    "\n",
    "ords_prods_merge.groupby('department_id').agg({'order_number': 'mean'})"
   ]
  },
  {
   "cell_type": "markdown",
   "id": "5d31ad10-4bc9-4b5f-974d-c1d319ddb982",
   "metadata": {},
   "source": [
    "#  Insights: Average Number of Orders per Department  \n",
    "\n",
    "The calculation of the **average number of orders per department** reveals that the **mean order frequency varies** across departments. Some departments have **higher average order numbers** than others.  \n",
    "\n",
    "---\n",
    "\n",
    "##  Key Observations  \n",
    "\n",
    "-  **Highest average order numbers** are found in:  \n",
    "  -  **Department 21** (≈ **22.9** orders)  \n",
    "  -  **Department 10** (≈ **20.2** orders)  \n",
    "\n",
    "-  **Lower values** appear in:  \n",
    "  -  **Department 5** (≈ **15.2** orders)  \n",
    "  -  **Department 8** (≈ **15.3** orders)  \n",
    "\n",
    "-  **Overall trend:** Most departments fall within the range of **15 to 18 average orders**.  \n",
    "\n",
    "---\n",
    "\n",
    "##  Why Does This Matter?  \n",
    "\n",
    "This analysis provides **valuable insights into ordering behavior across different departments**.  \n",
    "\n",
    " Helps identify **departments with higher or lower order frequency**  \n",
    " Supports **inventory planning and product availability strategies**  \n",
    " Can be used for **further customer behavior analysis**  \n",
    "\n",
    "In the **next task**, this aggregation will be further utilized to **conduct deeper analyses**.  \n",
    "\n",
    "---\n"
   ]
  },
  {
   "cell_type": "markdown",
   "id": "02f30295-adb8-47ea-86a1-692f2729ab4c",
   "metadata": {},
   "source": [
    "# Task 3) Comparing Aggregated Order Numbers: Full Dataset vs. Subset"
   ]
  },
  {
   "cell_type": "markdown",
   "id": "123dfed6-451c-4fc5-ae68-bfbb9b30b536",
   "metadata": {},
   "source": [
    "#  Analysis: Full Dataset vs. Subset  \n",
    "\n",
    "When comparing the **aggregated average order numbers per department** for the **full dataset** and the **subset (1,000,000 rows)**, we observe some differences:  \n",
    "\n",
    "##  Key Observations  \n",
    "\n",
    "-  The values in **both datasets are similar**, but slight deviations exist.  \n",
    "-  The **full dataset** provides a **more comprehensive view**, as it includes **all available data**.  \n",
    "-  The **subset may not be fully representative**, as it only includes the **first 1,000,000 rows**.  \n",
    "-  Some **departments show minor differences** in the average order number, suggesting that the **distribution of orders is not completely uniform** across departments.  \n",
    "\n",
    "---\n",
    "\n",
    "##  Why Does This Matter?  \n",
    "\n",
    "These observations highlight the importance of **working with the entire dataset whenever possible** to:  \n",
    "\n",
    " **Avoid biases** caused by partial data.  \n",
    " Ensure a **more accurate representation** of ordering behavior.  \n",
    " Improve **data-driven decision-making** with complete insights.  \n",
    "\n",
    "However, for **computational efficiency**, working with a **well-selected subset** can still provide useful insights when handling **large datasets**.  "
   ]
  },
  {
   "cell_type": "markdown",
   "id": "95c81424-3806-49c5-a5c5-ef71d57d7fc4",
   "metadata": {},
   "source": [
    "# Task 4) Creating a Customer Loyalty Classification"
   ]
  },
  {
   "cell_type": "markdown",
   "id": "35fd3429-b2a7-40c8-8597-0019c8508aed",
   "metadata": {},
   "source": [
    "### Step 1: Calculate maximum number of orders per customer"
   ]
  },
  {
   "cell_type": "code",
   "execution_count": 25,
   "id": "6ee964aa-5570-4c9b-ac30-156cc75e037b",
   "metadata": {},
   "outputs": [],
   "source": [
    "# With transform('max') we save the highest number of orders (order_number) for each user_id in a new column max_order.\n",
    "\n",
    "ords_prods_merge['max_order'] = ords_prods_merge.groupby('user_id')['order_number'].transform('max')\n",
    "\n",
    "# Why?\n",
    "# Each row contains the highest order_number value of the respective customer.\n",
    "# This indicates how often a customer has ordered in total."
   ]
  },
  {
   "cell_type": "markdown",
   "id": "6e1f3ee0-b4fe-46ef-af62-965a1750b69a",
   "metadata": {},
   "source": [
    "### Step 2: Create customer categories with loc()"
   ]
  },
  {
   "cell_type": "code",
   "execution_count": 27,
   "id": "d0835d6f-137b-4540-96d1-2dc74b1f9e57",
   "metadata": {},
   "outputs": [],
   "source": [
    "# Now we use loc() to define a loyalty category based on max_order:\n",
    "\n",
    "ords_prods_merge.loc[ords_prods_merge['max_order'] > 40, 'loyalty_flag'] = 'Loyal Customer'\n",
    "ords_prods_merge.loc[(ords_prods_merge['max_order'] <= 40) & (ords_prods_merge['max_order'] > 10), 'loyalty_flag'] = 'Regular Customer'\n",
    "ords_prods_merge.loc[ords_prods_merge['max_order'] <= 10, 'loyalty_flag'] = 'New Customer'\n",
    "\n",
    "# Categorization:\n",
    "# Loyal Customer: More than 40 orders.\n",
    "# Regular Customer: Between 11 and 40 orders.\n",
    "# New Customer: 10 or fewer orders."
   ]
  },
  {
   "cell_type": "markdown",
   "id": "ad39d465-7f6d-4413-bc7c-de3387afdf7d",
   "metadata": {},
   "source": [
    "### Step 3: Checking the results"
   ]
  },
  {
   "cell_type": "code",
   "execution_count": 29,
   "id": "5e77ea95-623d-46df-ab7b-dcd388754921",
   "metadata": {},
   "outputs": [
    {
     "data": {
      "text/plain": [
       "loyalty_flag\n",
       "Regular Customer    15891077\n",
       "Loyal Customer      10293737\n",
       "New Customer         6249398\n",
       "Name: count, dtype: int64"
      ]
     },
     "execution_count": 29,
     "metadata": {},
     "output_type": "execute_result"
    }
   ],
   "source": [
    "# Look at a sample to see if the categories have been assigned correctly:\n",
    "\n",
    "ords_prods_merge['loyalty_flag'].value_counts(dropna=False)\n",
    "\n",
    "# value_counts() counts the frequency of each category in the loyalty_flag column.\n",
    "# dropna=False ensures that NaN values (if present) are also counted."
   ]
  },
  {
   "cell_type": "markdown",
   "id": "c9c8ea4f-e363-49d5-93e4-c8b448339415",
   "metadata": {},
   "source": [
    "##  Observations  \n",
    "\n",
    "-  The high number of **Regular Customers** suggests that most users have made **between 11 and 40 orders**.  \n",
    "-  The **Loyal Customers** group is still significant, meaning that a considerable number of customers have placed **more than 40 orders**.  \n",
    "-  There are also a **large number of New Customers (≤ 10 orders)**, which could indicate a steady **influx of new users**.  \n",
    "\n",
    "---\n",
    "\n",
    "###  Why Is This Important?  \n",
    "\n",
    "This classification helps us **segment customers based on their purchase frequency**, which is valuable for:  \n",
    "\n",
    " **Targeted marketing strategies** – personalized promotions based on customer loyalty.  \n",
    " **Customer retention programs** – identifying and engaging high-value customers.  \n",
    " **Understanding user behavior** – spotting trends in repeat purchases and new customer acquisition.  \n",
    "\n",
    "---\n"
   ]
  },
  {
   "cell_type": "markdown",
   "id": "50ddfff7-4094-4492-b4fd-edfd5adffaad",
   "metadata": {},
   "source": [
    "# Task 5) Analyzing Spending Habits by Customer Loyalty"
   ]
  },
  {
   "cell_type": "code",
   "execution_count": 32,
   "id": "116f2e2c-57f9-4ab0-9c9d-8156796c54e0",
   "metadata": {},
   "outputs": [
    {
     "data": {
      "text/html": [
       "<div>\n",
       "<style scoped>\n",
       "    .dataframe tbody tr th:only-of-type {\n",
       "        vertical-align: middle;\n",
       "    }\n",
       "\n",
       "    .dataframe tbody tr th {\n",
       "        vertical-align: top;\n",
       "    }\n",
       "\n",
       "    .dataframe thead tr th {\n",
       "        text-align: left;\n",
       "    }\n",
       "\n",
       "    .dataframe thead tr:last-of-type th {\n",
       "        text-align: right;\n",
       "    }\n",
       "</style>\n",
       "<table border=\"1\" class=\"dataframe\">\n",
       "  <thead>\n",
       "    <tr>\n",
       "      <th></th>\n",
       "      <th colspan=\"3\" halign=\"left\">prices</th>\n",
       "    </tr>\n",
       "    <tr>\n",
       "      <th></th>\n",
       "      <th>mean</th>\n",
       "      <th>min</th>\n",
       "      <th>max</th>\n",
       "    </tr>\n",
       "    <tr>\n",
       "      <th>loyalty_flag</th>\n",
       "      <th></th>\n",
       "      <th></th>\n",
       "      <th></th>\n",
       "    </tr>\n",
       "  </thead>\n",
       "  <tbody>\n",
       "    <tr>\n",
       "      <th>Loyal Customer</th>\n",
       "      <td>10.388747</td>\n",
       "      <td>1.0</td>\n",
       "      <td>99999.0</td>\n",
       "    </tr>\n",
       "    <tr>\n",
       "      <th>New Customer</th>\n",
       "      <td>13.294370</td>\n",
       "      <td>1.0</td>\n",
       "      <td>99999.0</td>\n",
       "    </tr>\n",
       "    <tr>\n",
       "      <th>Regular Customer</th>\n",
       "      <td>12.496203</td>\n",
       "      <td>1.0</td>\n",
       "      <td>99999.0</td>\n",
       "    </tr>\n",
       "  </tbody>\n",
       "</table>\n",
       "</div>"
      ],
      "text/plain": [
       "                     prices              \n",
       "                       mean  min      max\n",
       "loyalty_flag                             \n",
       "Loyal Customer    10.388747  1.0  99999.0\n",
       "New Customer      13.294370  1.0  99999.0\n",
       "Regular Customer  12.496203  1.0  99999.0"
      ]
     },
     "execution_count": 32,
     "metadata": {},
     "output_type": "execute_result"
    }
   ],
   "source": [
    "# Grouping the data by customer loyalty category (loyalty_flag)\n",
    "# Then, calculating the mean, minimum, and maximum price for each group\n",
    "\n",
    "ords_prods_merge.groupby('loyalty_flag').agg({'prices' : ['mean', 'min', 'max']})"
   ]
  },
  {
   "cell_type": "markdown",
   "id": "4fbdfba2-714e-4a60-bb9a-560120cecef8",
   "metadata": {},
   "source": [
    "#  Analysis: Price Statistics by Customer Loyalty  \n",
    "\n",
    "To analyze whether **spending habits** differ between loyalty categories, we grouped the data by **`loyalty_flag`** and calculated the following price statistics:  \n",
    "\n",
    "##  Key Metrics  \n",
    "\n",
    "- **Mean price (`mean`)** → The **average price** of products purchased by each customer group.  \n",
    "- **Minimum price (`min`)** → The **cheapest product** bought in each category.  \n",
    "- **Maximum price (`max`)** → The **most expensive product** bought in each category.  \n",
    "\n",
    "---\n",
    "\n",
    "##  Insights  \n",
    "These values help us understand **whether loyal customers tend to buy more expensive products** compared to **new or regular customers**.  \n",
    "\n",
    "By analyzing these price trends, we can:  \n",
    " Identify **differences in spending behavior**  \n",
    " Optimize **marketing strategies** based on purchase patterns  \n",
    " Develop **targeted promotions** for different customer segments  \n",
    "\n",
    "---\n"
   ]
  },
  {
   "cell_type": "markdown",
   "id": "1ca83fc6-3197-4950-b5e9-627c98d1fd03",
   "metadata": {},
   "source": [
    "# Task 6) Classifying Customers Based on Spending Behavior"
   ]
  },
  {
   "cell_type": "markdown",
   "id": "f773f9b8-27fe-4bf8-9bae-3808f0502938",
   "metadata": {},
   "source": [
    "### Step 1: Calculate average price per user"
   ]
  },
  {
   "cell_type": "code",
   "execution_count": null,
   "id": "db838042-de28-420e-aefe-e302f33cf925",
   "metadata": {},
   "outputs": [],
   "source": [
    "# We use groupby('user_id') and transform('mean') to calculate the average price per user and create a new column avg_spending.\n",
    "\n",
    "ords_prods_merge['avg_spending'] = ords_prods_merge.groupby('user_id')['prices'].transform('mean')\n",
    "\n",
    "# Why transform()?\n",
    "# So that every purchase made by a user receives the same average value.\n",
    "# So we can simply assign a spending flag."
   ]
  },
  {
   "cell_type": "markdown",
   "id": "d43529e3-b3a6-41df-94c0-d9055c7ba00f",
   "metadata": {},
   "source": [
    "### Step 2: Create the spending flag with loc()"
   ]
  },
  {
   "cell_type": "code",
   "execution_count": null,
   "id": "e628cd1e-eb74-4c6b-bbc7-250a1802734e",
   "metadata": {},
   "outputs": [],
   "source": [
    "# Now we use loc() to classify the data as “Low Spender” or “High Spender” based on avg_spending:\n",
    "\n",
    "# Categorization of users as low spenders or high spenders\n",
    "ords_prods_merge.loc[ords_prods_merge['avg_spending'] < 10, 'spending_flag'] = 'Low spender'\n",
    "ords_prods_merge.loc[ords_prods_merge['avg_spending'] >= 10, 'spending_flag'] = 'High spender'\n",
    "\n",
    "# Categorization:\n",
    "# Low spender: Average price of products purchased < 10 USD\n",
    "# High spender: Average price of the products purchased ≥ 10 USD"
   ]
  },
  {
   "cell_type": "markdown",
   "id": "a31b842f-7d0c-4b55-9da3-5bcf0d4bb388",
   "metadata": {},
   "source": [
    "### Step 3: Analyze the distribution of categories with value_counts():"
   ]
  },
  {
   "cell_type": "code",
   "execution_count": null,
   "id": "485d487e-4e75-4b2b-9a9c-d9348958a969",
   "metadata": {},
   "outputs": [],
   "source": [
    "ords_prods_merge['spending_flag'].value_counts(dropna=False)\n",
    "\n",
    "# Shows how many customers were classified as “low spenders” or “high spenders”.\n",
    "# In your case, there are many more “low spenders” (31.8 million) than “high spenders” (635k)."
   ]
  },
  {
   "cell_type": "markdown",
   "id": "3baed742-dfe8-47ef-b8f4-9d04b34bda72",
   "metadata": {},
   "source": [
    "### & Show sample of relevant columns:"
   ]
  },
  {
   "cell_type": "code",
   "execution_count": null,
   "id": "5eca2d40-d2e8-4ef5-b36a-4a12f310e571",
   "metadata": {},
   "outputs": [],
   "source": [
    "ords_prods_merge[['user_id', 'loyalty_flag', 'order_number']].head(100)\n",
    "\n",
    "# Check if the spending_flag has been assigned correctly by looking at the avg_product_price values.\n",
    "# In your screenshot, we can see that, for example, user_id 1 and user_id 12 have both been classified as “low spenders” because their average price is < 10 (e.g. 6.36 or 8.11)."
   ]
  },
  {
   "cell_type": "markdown",
   "id": "a4747231-0ab6-4003-b3e1-153c61537d21",
   "metadata": {},
   "source": [
    "# Checking the Results  \n",
    "\n",
    "To ensure that customers are correctly classified as **Low Spenders** and **High Spenders**, we performed the following checks:  \n",
    "\n",
    "## 1. Counting spending categories (`value_counts()`)  \n",
    "- The majority of customers (**31.8M**) fall into the **Low Spender** category.  \n",
    "- Only a smaller group (**635K**) qualifies as **High Spenders**, indicating that most users purchase lower-cost products on average.  \n",
    "\n",
    "## 2. Reviewing sample data (`head(1000)`)  \n",
    "- We checked individual users and confirmed that their **spending_flag** aligns with their **avg_product_price**.  \n",
    "- **Example:**  `user_id 1` has an **average product price of $6.36**, correctly classified as a **Low Spender**.  \n",
    "\n",
    "---\n",
    "\n",
    "### **Summary**  \n",
    "These results indicate that the **spending flag classification is working correctly**  and can now be used for further analysis or marketing segmentation.  \n"
   ]
  },
  {
   "cell_type": "markdown",
   "id": "4d2f6b63-cd21-40e5-9b38-399331ea87b0",
   "metadata": {},
   "source": [
    "# Task 7) Classifying Customers Based on Order Frequency"
   ]
  },
  {
   "cell_type": "markdown",
   "id": "1af4cbf8-8545-4a1e-bc99-ad0d4834c894",
   "metadata": {},
   "source": [
    "### Step 1: Calculate median days between orders per user"
   ]
  },
  {
   "cell_type": "code",
   "execution_count": null,
   "id": "f71fd79a-2672-4cb0-a0e6-01820fd7a696",
   "metadata": {},
   "outputs": [],
   "source": [
    "# We use groupby('user_id') and transform('median') to calculate the median number of days between orders per user and create a new column median_days_since_order.\n",
    "\n",
    "# Calculate the median number of days between orders per user\n",
    "ords_prods_merge['median_days_since_order'] = ords_prods_merge.groupby('user_id')['days_since_prior_order'].transform('median')\n",
    "\n",
    "# Why transform()?\n",
    "# - So that every purchase made by a user receives the same median value.\n",
    "# - This allows us to easily assign an order frequency flag."
   ]
  },
  {
   "cell_type": "markdown",
   "id": "f570a615-ed28-4e34-bf70-61e5b81621f9",
   "metadata": {},
   "source": [
    "### Step 2: Create the order frequency flag with loc()"
   ]
  },
  {
   "cell_type": "code",
   "execution_count": null,
   "id": "244eaac1-72f6-4af0-883e-73444d4a2593",
   "metadata": {},
   "outputs": [],
   "source": [
    "# Now we use loc() to classify the data as Frequent, Regular, or Non-frequent Customers based on median_days_since_order:\n",
    "\n",
    "# Categorization of users based on ordering frequency\n",
    "ords_prods_merge.loc[ords_prods_merge['median_days_since_order'] <= 10, 'order_frequency_flag'] = 'Frequent customer'\n",
    "ords_prods_merge.loc[(ords_prods_merge['median_days_since_order'] > 10) & (ords_prods_merge['median_days_since_order'] <= 20), 'order_frequency_flag'] = 'Regular customer'\n",
    "ords_prods_merge.loc[ords_prods_merge['median_days_since_order'] > 20, 'order_frequency_flag'] = 'Non-frequent customer'\n",
    "\n",
    "# Categorization:\n",
    "# - Frequent customer: Median days since last order ≤ 10\n",
    "# - Regular customer: Median days since last order > 10 and ≤ 20\n",
    "# - Non-frequent customer: Median days since last order > 20"
   ]
  },
  {
   "cell_type": "markdown",
   "id": "6bd89027-e008-42a5-921a-3f208852212f",
   "metadata": {},
   "source": [
    "### Step 3: Analyze the distribution of categories with value_counts()"
   ]
  },
  {
   "cell_type": "code",
   "execution_count": null,
   "id": "0fab8f0d-b064-4ada-939a-7c8e1ea390b9",
   "metadata": {},
   "outputs": [],
   "source": [
    "# Show the number of customers in each order frequency category\n",
    "print(ords_prods_merge['order_frequency_flag'].value_counts(dropna=False))\n",
    "\n",
    "# Shows how many customers were classified as \"Frequent\", \"Regular\", or \"Non-frequent customers\"."
   ]
  },
  {
   "cell_type": "markdown",
   "id": "95f670e2-9cb9-4772-9d5f-69685c8a87ff",
   "metadata": {},
   "source": [
    "### & Show a sample of relevant columns:"
   ]
  },
  {
   "cell_type": "code",
   "execution_count": null,
   "id": "83c4d53e-65f1-4eee-bf4c-7fc991b7ddcc",
   "metadata": {},
   "outputs": [],
   "source": [
    "# Check if the order_frequency_flag has been assigned correctly\n",
    "\n",
    "ords_prods_merge[['user_id', 'median_days_since_order', 'order_frequency_flag']].head(100)\n",
    "\n"
   ]
  },
  {
   "cell_type": "markdown",
   "id": "7ea73fdc-37a9-4785-be2f-8f897e83cfcd",
   "metadata": {},
   "source": [
    "#  Checking the Results  \n",
    "\n",
    "To ensure that customers are correctly classified as **Frequent, Regular, or Non-frequent customers**, we performed the following checks:  \n",
    "\n",
    "##  Counting ordering frequency categories (`value_counts()`)  \n",
    "-  The majority of customers belong to the **[most common category]**.  \n",
    "-  A smaller group qualifies as **[least common category]**, indicating that some users order much less frequently.  \n",
    "\n",
    "##  Reviewing sample data (`head(1000)`)  \n",
    "-  We checked individual users and confirmed that their **order_frequency_flag** aligns with their **median_days_since_order**.  \n",
    "- **Example:**  \n",
    "  -  `user_id 1` has a **median days since prior order of 7**, correctly classified as a **Frequent customer**.  \n",
    "\n",
    "---\n",
    "\n",
    "##  Summary  \n",
    "These results indicate that the **order frequency classification is working correctly** and can now be used for:  \n",
    "\n",
    " **Personalized in-app notifications** (e.g., reorder reminders).  \n",
    " **Customer segmentation for targeted promotions**.  \n",
    " **Understanding user retention and engagement trends**.  "
   ]
  },
  {
   "cell_type": "markdown",
   "id": "79a3dd04-2c98-49c8-8b79-0c64fe2daeb8",
   "metadata": {},
   "source": [
    "# Task 9) Exporting Data"
   ]
  },
  {
   "cell_type": "code",
   "execution_count": null,
   "id": "5f7c7c33-9011-43d8-b7aa-9cf2ba3dbc99",
   "metadata": {},
   "outputs": [],
   "source": [
    "ords_prods_merge.to_pickle(\"ords_prods_merge.pkl\")"
   ]
  },
  {
   "cell_type": "code",
   "execution_count": null,
   "id": "6b1d5b09-c951-4591-afff-c2e5cfffa2f9",
   "metadata": {},
   "outputs": [],
   "source": [
    "import pandas as pd"
   ]
  },
  {
   "cell_type": "code",
   "execution_count": null,
   "id": "3055ffb2-d753-401c-a5bc-9fa4e16cef3b",
   "metadata": {},
   "outputs": [],
   "source": [
    "crosstab = pd.crosstab(ords_prods_merge['days_since_prior_order'], ords_prods_merge['order_number'], dropna = False)"
   ]
  },
  {
   "cell_type": "code",
   "execution_count": null,
   "id": "fb6a5536-4c5a-4ac6-a2cc-5d614533cb6e",
   "metadata": {},
   "outputs": [],
   "source": []
  },
  {
   "cell_type": "code",
   "execution_count": null,
   "id": "1b0dfb9b-a341-4ad8-a973-cc408c1adc6c",
   "metadata": {},
   "outputs": [],
   "source": []
  }
 ],
 "metadata": {
  "kernelspec": {
   "display_name": "Python [conda env:base] *",
   "language": "python",
   "name": "conda-base-py"
  },
  "language_info": {
   "codemirror_mode": {
    "name": "ipython",
    "version": 3
   },
   "file_extension": ".py",
   "mimetype": "text/x-python",
   "name": "python",
   "nbconvert_exporter": "python",
   "pygments_lexer": "ipython3",
   "version": "3.12.7"
  }
 },
 "nbformat": 4,
 "nbformat_minor": 5
}
