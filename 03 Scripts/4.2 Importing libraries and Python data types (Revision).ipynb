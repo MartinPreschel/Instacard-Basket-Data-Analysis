{
 "cells": [
  {
   "cell_type": "markdown",
   "id": "dd703e0b-67b1-4ae7-aea8-f640585f9210",
   "metadata": {},
   "source": [
    "# 01. Importing libraries"
   ]
  },
  {
   "cell_type": "code",
   "execution_count": 4,
   "id": "6281c108-5007-4c02-af6d-0dfaebf5c69c",
   "metadata": {},
   "outputs": [],
   "source": [
    "# Import the necessary libraries for data analysis\n",
    "import pandas as pd # Pandas for handling tables and DataFrames\n",
    "import numpy as np # NumPy for mathematical operations and arrays\n",
    "import os # OS module for working with the file system"
   ]
  },
  {
   "cell_type": "markdown",
   "id": "a228d2d7-d32b-4ec1-8cff-6997ae83e5a2",
   "metadata": {},
   "source": [
    "# 02. Data types"
   ]
  },
  {
   "cell_type": "markdown",
   "id": "9dc02f9f-4792-4399-8a76-8072e2f51f48",
   "metadata": {},
   "source": [
    "## Task 7.) Code 3 different ways of reaching a result of 100 by adding or subtracting numeric variables."
   ]
  },
  {
   "cell_type": "markdown",
   "id": "96bfa44e-a890-4e3a-ba29-b939d645002b",
   "metadata": {
    "jp-MarkdownHeadingCollapsed": true
   },
   "source": [
    "### First way"
   ]
  },
  {
   "cell_type": "code",
   "execution_count": 24,
   "id": "249440e7-974a-4484-bf0b-7295e1960f06",
   "metadata": {},
   "outputs": [],
   "source": [
    "# Define two numbers\n",
    "m = 25\n",
    "n = 75"
   ]
  },
  {
   "cell_type": "code",
   "execution_count": 60,
   "id": "6981b12c-ddf1-4b64-8566-a2b074cd2c7a",
   "metadata": {},
   "outputs": [],
   "source": [
    "# Calculate the sum of m and n\n",
    "sum_result = m + n"
   ]
  },
  {
   "cell_type": "code",
   "execution_count": 32,
   "id": "ae150875-804d-41a1-b021-6f14dae261b9",
   "metadata": {},
   "outputs": [
    {
     "name": "stdout",
     "output_type": "stream",
     "text": [
      "Sum of m and n: 100\n"
     ]
    }
   ],
   "source": [
    "# Print the result\n",
    "print(\"Sum of m and n:\", sum_result)"
   ]
  },
  {
   "cell_type": "markdown",
   "id": "0b47e0eb-d74a-43f2-949b-e88be280ced1",
   "metadata": {
    "jp-MarkdownHeadingCollapsed": true
   },
   "source": [
    "### Second way"
   ]
  },
  {
   "cell_type": "code",
   "execution_count": 62,
   "id": "f4bc7b4b-227e-408f-910e-7900702965fb",
   "metadata": {},
   "outputs": [],
   "source": [
    "# Calculate the sum by adding m multiple times\n",
    "sum_result = m + m + m + m"
   ]
  },
  {
   "cell_type": "code",
   "execution_count": 58,
   "id": "807085a8-473b-49f1-a0e0-9894dde9740b",
   "metadata": {},
   "outputs": [
    {
     "name": "stdout",
     "output_type": "stream",
     "text": [
      "Sum of repeated m values: 100\n"
     ]
    }
   ],
   "source": [
    "# Print the result \n",
    "print(\"Sum of repeated m values:\", sum_result)"
   ]
  },
  {
   "cell_type": "markdown",
   "id": "a01a706d-c6fb-4835-b44d-4f0c3479ef55",
   "metadata": {
    "jp-MarkdownHeadingCollapsed": true
   },
   "source": [
    "### Third way"
   ]
  },
  {
   "cell_type": "code",
   "execution_count": 64,
   "id": "231b0ac3-d7b8-4009-89e7-5c554376e1db",
   "metadata": {},
   "outputs": [],
   "source": [
    "# Calculate the sum with addition and subtraction\n",
    "sum_result = n + n - m - m"
   ]
  },
  {
   "cell_type": "code",
   "execution_count": 56,
   "id": "c0e03f23-173d-45b2-86c0-0e2990992284",
   "metadata": {},
   "outputs": [
    {
     "name": "stdout",
     "output_type": "stream",
     "text": [
      "Sum of n and n and m and m: 100\n"
     ]
    }
   ],
   "source": [
    "# Print the result \n",
    "print(\"Sum of n and n and m and m:\", sum_result)"
   ]
  },
  {
   "cell_type": "markdown",
   "id": "ace1e9e0-f6cc-4fae-bc84-a5c9cdf6616a",
   "metadata": {
    "jp-MarkdownHeadingCollapsed": true
   },
   "source": [
    "## Task 8.) Code 2 floating-point variables and divide them by each other."
   ]
  },
  {
   "cell_type": "code",
   "execution_count": 69,
   "id": "bd1dfe7f-4cd4-413e-8180-f9183d04b480",
   "metadata": {},
   "outputs": [],
   "source": [
    "# Define two numbers\n",
    "p = 2.8\n",
    "q = 9.7"
   ]
  },
  {
   "cell_type": "code",
   "execution_count": 80,
   "id": "d5ada01c-9094-4a82-a5f4-e743f43d5898",
   "metadata": {},
   "outputs": [],
   "source": [
    "# Calculate the division of p and q\n",
    "sum_result = p / q"
   ]
  },
  {
   "cell_type": "code",
   "execution_count": 77,
   "id": "e5770ffa-5a3a-4b54-b313-34f15971b804",
   "metadata": {},
   "outputs": [
    {
     "name": "stdout",
     "output_type": "stream",
     "text": [
      "Division of p and q: 0.288659793814433\n"
     ]
    }
   ],
   "source": [
    "# Print the result \n",
    "print (\"Division of p and q:\", sum_result)"
   ]
  },
  {
   "cell_type": "markdown",
   "id": "54f730ed-3478-4918-96a8-67381cda2a37",
   "metadata": {
    "jp-MarkdownHeadingCollapsed": true
   },
   "source": [
    "## Task 9.) Construct a short word made of separate strings (you’ll need to concatenate some strings!)."
   ]
  },
  {
   "cell_type": "code",
   "execution_count": 82,
   "id": "3947903a-a7e3-44de-8939-b39a5df22258",
   "metadata": {},
   "outputs": [],
   "source": [
    "# Define words as separate string variables\n",
    "x = ' Career'\n",
    "z = 'Foundry'"
   ]
  },
  {
   "cell_type": "code",
   "execution_count": 86,
   "id": "3d25e4e2-af5c-4f9d-8e80-633ef6d80bc5",
   "metadata": {},
   "outputs": [
    {
     "name": "stdout",
     "output_type": "stream",
     "text": [
      " CareerFoundry\n"
     ]
    }
   ],
   "source": [
    "# Concatenate x and z to form the full name\n",
    "full_name = x + z\n",
    "print(full_name)  # Output: 'CareerFoundry'"
   ]
  },
  {
   "cell_type": "markdown",
   "id": "0f171c3b-df24-4d7e-b964-2803f23ad0a3",
   "metadata": {
    "jp-MarkdownHeadingCollapsed": true
   },
   "source": [
    "## 10.) Construct 2 short sentences made of separate strings."
   ]
  },
  {
   "cell_type": "code",
   "execution_count": 93,
   "id": "76489fa4-30e8-4540-8e05-8c3169b46942",
   "metadata": {},
   "outputs": [
    {
     "name": "stdout",
     "output_type": "stream",
     "text": [
      " I´m Martin. I´m a student at CareerFoundry\n"
     ]
    }
   ],
   "source": [
    "# Define sentence components\n",
    "i = ' I´m'\n",
    "j = ' Martin.'\n",
    "o = ' a'\n",
    "g = ' student'\n",
    "v = ' at'\n",
    "\n",
    "# Combine all string parts into a full sentence\n",
    "sentence = i + j + i + o + g + v + x + z\n",
    "print(sentence)  # Output: 'I’m Martin. I’m a student at CareerFoundry'"
   ]
  }
 ],
 "metadata": {
  "kernelspec": {
   "display_name": "Python [conda env:base] *",
   "language": "python",
   "name": "conda-base-py"
  },
  "language_info": {
   "codemirror_mode": {
    "name": "ipython",
    "version": 3
   },
   "file_extension": ".py",
   "mimetype": "text/x-python",
   "name": "python",
   "nbconvert_exporter": "python",
   "pygments_lexer": "ipython3",
   "version": "3.12.7"
  }
 },
 "nbformat": 4,
 "nbformat_minor": 5
}
