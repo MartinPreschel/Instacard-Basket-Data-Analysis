{
 "cells": [
  {
   "cell_type": "markdown",
   "id": "09cfb8e9-3cd2-4cc4-85bc-080462669b6c",
   "metadata": {},
   "source": [
    "# Task 1) Import Data"
   ]
  },
  {
   "cell_type": "code",
   "execution_count": 3,
   "id": "f6befecb-28f2-4e3b-aa09-bf175d18d523",
   "metadata": {},
   "outputs": [],
   "source": [
    "# import libraries\n",
    "\n",
    "import pandas as pd\n",
    "import numpy as np\n",
    "import os\n",
    "import matplotlib.pyplot as plt\n",
    "import seaborn as sns\n",
    "import scipy"
   ]
  },
  {
   "cell_type": "code",
   "execution_count": 4,
   "id": "1e4d5721-9f35-4a23-8fdf-aae1de7844da",
   "metadata": {},
   "outputs": [],
   "source": [
    "# data set path\n",
    "\n",
    "path = r\"/Users/martin/anaconda_projects/11-02-2025 Instacart Basket Analysis\""
   ]
  },
  {
   "cell_type": "code",
   "execution_count": 5,
   "id": "f572f30d-5937-41e4-bdcd-51224010bf10",
   "metadata": {},
   "outputs": [],
   "source": [
    "# import merged data set (from part1) \n",
    "\n",
    "df_merged = pd.read_pickle(os.path.join(path, '02 data' , 'Prepared Data' , 'orders_products_customers_combined.pkl'))"
   ]
  },
  {
   "cell_type": "code",
   "execution_count": 6,
   "id": "bad13db5-f7bd-47ed-9f28-05b547c052d8",
   "metadata": {},
   "outputs": [
    {
     "data": {
      "text/html": [
       "<div>\n",
       "<style scoped>\n",
       "    .dataframe tbody tr th:only-of-type {\n",
       "        vertical-align: middle;\n",
       "    }\n",
       "\n",
       "    .dataframe tbody tr th {\n",
       "        vertical-align: top;\n",
       "    }\n",
       "\n",
       "    .dataframe thead th {\n",
       "        text-align: right;\n",
       "    }\n",
       "</style>\n",
       "<table border=\"1\" class=\"dataframe\">\n",
       "  <thead>\n",
       "    <tr style=\"text-align: right;\">\n",
       "      <th></th>\n",
       "      <th>Unnamed: 0</th>\n",
       "      <th>order_id</th>\n",
       "      <th>user_id</th>\n",
       "      <th>eval_set</th>\n",
       "      <th>order_number</th>\n",
       "      <th>orders_day_of_week</th>\n",
       "      <th>order_hour_of_day</th>\n",
       "      <th>days_since_prior_order</th>\n",
       "      <th>product_id</th>\n",
       "      <th>add_to_cart_order</th>\n",
       "      <th>...</th>\n",
       "      <th>median_days_since_order</th>\n",
       "      <th>order_frequency_flag</th>\n",
       "      <th>customer_name</th>\n",
       "      <th>gender</th>\n",
       "      <th>state</th>\n",
       "      <th>age</th>\n",
       "      <th>date_joined</th>\n",
       "      <th>num_dependants</th>\n",
       "      <th>family_status</th>\n",
       "      <th>income</th>\n",
       "    </tr>\n",
       "  </thead>\n",
       "  <tbody>\n",
       "    <tr>\n",
       "      <th>0</th>\n",
       "      <td>0</td>\n",
       "      <td>2539329</td>\n",
       "      <td>1</td>\n",
       "      <td>prior</td>\n",
       "      <td>1</td>\n",
       "      <td>2</td>\n",
       "      <td>8</td>\n",
       "      <td>NaN</td>\n",
       "      <td>196</td>\n",
       "      <td>1</td>\n",
       "      <td>...</td>\n",
       "      <td>20.5</td>\n",
       "      <td>Non-frequent customer</td>\n",
       "      <td>Nguyen</td>\n",
       "      <td>Female</td>\n",
       "      <td>Alabama</td>\n",
       "      <td>31</td>\n",
       "      <td>2019-02-17</td>\n",
       "      <td>3</td>\n",
       "      <td>married</td>\n",
       "      <td>40423</td>\n",
       "    </tr>\n",
       "    <tr>\n",
       "      <th>1</th>\n",
       "      <td>0</td>\n",
       "      <td>2539329</td>\n",
       "      <td>1</td>\n",
       "      <td>prior</td>\n",
       "      <td>1</td>\n",
       "      <td>2</td>\n",
       "      <td>8</td>\n",
       "      <td>NaN</td>\n",
       "      <td>14084</td>\n",
       "      <td>2</td>\n",
       "      <td>...</td>\n",
       "      <td>20.5</td>\n",
       "      <td>Non-frequent customer</td>\n",
       "      <td>Nguyen</td>\n",
       "      <td>Female</td>\n",
       "      <td>Alabama</td>\n",
       "      <td>31</td>\n",
       "      <td>2019-02-17</td>\n",
       "      <td>3</td>\n",
       "      <td>married</td>\n",
       "      <td>40423</td>\n",
       "    </tr>\n",
       "    <tr>\n",
       "      <th>2</th>\n",
       "      <td>0</td>\n",
       "      <td>2539329</td>\n",
       "      <td>1</td>\n",
       "      <td>prior</td>\n",
       "      <td>1</td>\n",
       "      <td>2</td>\n",
       "      <td>8</td>\n",
       "      <td>NaN</td>\n",
       "      <td>12427</td>\n",
       "      <td>3</td>\n",
       "      <td>...</td>\n",
       "      <td>20.5</td>\n",
       "      <td>Non-frequent customer</td>\n",
       "      <td>Nguyen</td>\n",
       "      <td>Female</td>\n",
       "      <td>Alabama</td>\n",
       "      <td>31</td>\n",
       "      <td>2019-02-17</td>\n",
       "      <td>3</td>\n",
       "      <td>married</td>\n",
       "      <td>40423</td>\n",
       "    </tr>\n",
       "    <tr>\n",
       "      <th>3</th>\n",
       "      <td>0</td>\n",
       "      <td>2539329</td>\n",
       "      <td>1</td>\n",
       "      <td>prior</td>\n",
       "      <td>1</td>\n",
       "      <td>2</td>\n",
       "      <td>8</td>\n",
       "      <td>NaN</td>\n",
       "      <td>26088</td>\n",
       "      <td>4</td>\n",
       "      <td>...</td>\n",
       "      <td>20.5</td>\n",
       "      <td>Non-frequent customer</td>\n",
       "      <td>Nguyen</td>\n",
       "      <td>Female</td>\n",
       "      <td>Alabama</td>\n",
       "      <td>31</td>\n",
       "      <td>2019-02-17</td>\n",
       "      <td>3</td>\n",
       "      <td>married</td>\n",
       "      <td>40423</td>\n",
       "    </tr>\n",
       "    <tr>\n",
       "      <th>4</th>\n",
       "      <td>0</td>\n",
       "      <td>2539329</td>\n",
       "      <td>1</td>\n",
       "      <td>prior</td>\n",
       "      <td>1</td>\n",
       "      <td>2</td>\n",
       "      <td>8</td>\n",
       "      <td>NaN</td>\n",
       "      <td>26405</td>\n",
       "      <td>5</td>\n",
       "      <td>...</td>\n",
       "      <td>20.5</td>\n",
       "      <td>Non-frequent customer</td>\n",
       "      <td>Nguyen</td>\n",
       "      <td>Female</td>\n",
       "      <td>Alabama</td>\n",
       "      <td>31</td>\n",
       "      <td>2019-02-17</td>\n",
       "      <td>3</td>\n",
       "      <td>married</td>\n",
       "      <td>40423</td>\n",
       "    </tr>\n",
       "  </tbody>\n",
       "</table>\n",
       "<p>5 rows × 33 columns</p>\n",
       "</div>"
      ],
      "text/plain": [
       "   Unnamed: 0  order_id  user_id eval_set  order_number  orders_day_of_week  \\\n",
       "0           0   2539329        1    prior             1                   2   \n",
       "1           0   2539329        1    prior             1                   2   \n",
       "2           0   2539329        1    prior             1                   2   \n",
       "3           0   2539329        1    prior             1                   2   \n",
       "4           0   2539329        1    prior             1                   2   \n",
       "\n",
       "   order_hour_of_day  days_since_prior_order  product_id  add_to_cart_order  \\\n",
       "0                  8                     NaN         196                  1   \n",
       "1                  8                     NaN       14084                  2   \n",
       "2                  8                     NaN       12427                  3   \n",
       "3                  8                     NaN       26088                  4   \n",
       "4                  8                     NaN       26405                  5   \n",
       "\n",
       "   ...  median_days_since_order   order_frequency_flag customer_name  gender  \\\n",
       "0  ...                     20.5  Non-frequent customer        Nguyen  Female   \n",
       "1  ...                     20.5  Non-frequent customer        Nguyen  Female   \n",
       "2  ...                     20.5  Non-frequent customer        Nguyen  Female   \n",
       "3  ...                     20.5  Non-frequent customer        Nguyen  Female   \n",
       "4  ...                     20.5  Non-frequent customer        Nguyen  Female   \n",
       "\n",
       "     state  age date_joined num_dependants family_status  income  \n",
       "0  Alabama   31  2019-02-17              3       married   40423  \n",
       "1  Alabama   31  2019-02-17              3       married   40423  \n",
       "2  Alabama   31  2019-02-17              3       married   40423  \n",
       "3  Alabama   31  2019-02-17              3       married   40423  \n",
       "4  Alabama   31  2019-02-17              3       married   40423  \n",
       "\n",
       "[5 rows x 33 columns]"
      ]
     },
     "execution_count": 6,
     "metadata": {},
     "output_type": "execute_result"
    }
   ],
   "source": [
    "# get an overview of the data\n",
    "\n",
    "df_merged.head()"
   ]
  },
  {
   "cell_type": "markdown",
   "id": "3ed25de1-293e-4fb5-a95b-cdbb690a83c9",
   "metadata": {},
   "source": [
    "# Task 3) Create a histogram "
   ]
  },
  {
   "cell_type": "code",
   "execution_count": 8,
   "id": "7cf29630-a825-4ef6-971a-5ba9cd781526",
   "metadata": {},
   "outputs": [
    {
     "data": {
      "image/png": "[encoded data removed]",
      "text/plain": [
       "<Figure size 640x480 with 1 Axes>"
      ]
     },
     "metadata": {},
     "output_type": "display_data"
    }
   ],
   "source": [
    "# creating a histogram of the “order_hour_of_day” column\n",
    "\n",
    "hist = df_merged['order_hour_of_day'].plot.hist(bins = 24)"
   ]
  },
  {
   "cell_type": "markdown",
   "id": "fb1b70c7-689f-4c91-8b54-072d6e07799d",
   "metadata": {},
   "source": [
    "### Exporting the line chart"
   ]
  },
  {
   "cell_type": "code",
   "execution_count": 31,
   "id": "fa902164-0efd-4d91-9277-0f1bd979d305",
   "metadata": {},
   "outputs": [
    {
     "ename": "FileNotFoundError",
     "evalue": "[Errno 2] No such file or directory: '/Users/martin/anaconda_projects/11-02-2025/Instacart Basket Analysis/04 Analysis/Visualizations/hist_order_hod.png'",
     "output_type": "error",
     "traceback": [
      "\u001b[0;31m---------------------------------------------------------------------------\u001b[0m",
      "\u001b[0;31mFileNotFoundError\u001b[0m                         Traceback (most recent call last)",
      "Cell \u001b[0;32mIn[31], line 3\u001b[0m\n\u001b[1;32m      1\u001b[0m \u001b[38;5;66;03m# Save the graphic\u001b[39;00m\n\u001b[0;32m----> 3\u001b[0m hist\u001b[38;5;241m.\u001b[39mfigure\u001b[38;5;241m.\u001b[39msavefig(os\u001b[38;5;241m.\u001b[39mpath\u001b[38;5;241m.\u001b[39mjoin(save_path, \u001b[38;5;124m'\u001b[39m\u001b[38;5;124mhist_order_hod.png\u001b[39m\u001b[38;5;124m'\u001b[39m))\n",
      "File \u001b[0;32m/opt/anaconda3/lib/python3.12/site-packages/matplotlib/figure.py:3490\u001b[0m, in \u001b[0;36mFigure.savefig\u001b[0;34m(self, fname, transparent, **kwargs)\u001b[0m\n\u001b[1;32m   3488\u001b[0m     \u001b[38;5;28;01mfor\u001b[39;00m ax \u001b[38;5;129;01min\u001b[39;00m \u001b[38;5;28mself\u001b[39m\u001b[38;5;241m.\u001b[39maxes:\n\u001b[1;32m   3489\u001b[0m         _recursively_make_axes_transparent(stack, ax)\n\u001b[0;32m-> 3490\u001b[0m \u001b[38;5;28mself\u001b[39m\u001b[38;5;241m.\u001b[39mcanvas\u001b[38;5;241m.\u001b[39mprint_figure(fname, \u001b[38;5;241m*\u001b[39m\u001b[38;5;241m*\u001b[39mkwargs)\n",
      "File \u001b[0;32m/opt/anaconda3/lib/python3.12/site-packages/matplotlib/backend_bases.py:2184\u001b[0m, in \u001b[0;36mFigureCanvasBase.print_figure\u001b[0;34m(self, filename, dpi, facecolor, edgecolor, orientation, format, bbox_inches, pad_inches, bbox_extra_artists, backend, **kwargs)\u001b[0m\n\u001b[1;32m   2180\u001b[0m \u001b[38;5;28;01mtry\u001b[39;00m:\n\u001b[1;32m   2181\u001b[0m     \u001b[38;5;66;03m# _get_renderer may change the figure dpi (as vector formats\u001b[39;00m\n\u001b[1;32m   2182\u001b[0m     \u001b[38;5;66;03m# force the figure dpi to 72), so we need to set it again here.\u001b[39;00m\n\u001b[1;32m   2183\u001b[0m     \u001b[38;5;28;01mwith\u001b[39;00m cbook\u001b[38;5;241m.\u001b[39m_setattr_cm(\u001b[38;5;28mself\u001b[39m\u001b[38;5;241m.\u001b[39mfigure, dpi\u001b[38;5;241m=\u001b[39mdpi):\n\u001b[0;32m-> 2184\u001b[0m         result \u001b[38;5;241m=\u001b[39m print_method(\n\u001b[1;32m   2185\u001b[0m             filename,\n\u001b[1;32m   2186\u001b[0m             facecolor\u001b[38;5;241m=\u001b[39mfacecolor,\n\u001b[1;32m   2187\u001b[0m             edgecolor\u001b[38;5;241m=\u001b[39medgecolor,\n\u001b[1;32m   2188\u001b[0m             orientation\u001b[38;5;241m=\u001b[39morientation,\n\u001b[1;32m   2189\u001b[0m             bbox_inches_restore\u001b[38;5;241m=\u001b[39m_bbox_inches_restore,\n\u001b[1;32m   2190\u001b[0m             \u001b[38;5;241m*\u001b[39m\u001b[38;5;241m*\u001b[39mkwargs)\n\u001b[1;32m   2191\u001b[0m \u001b[38;5;28;01mfinally\u001b[39;00m:\n\u001b[1;32m   2192\u001b[0m     \u001b[38;5;28;01mif\u001b[39;00m bbox_inches \u001b[38;5;129;01mand\u001b[39;00m restore_bbox:\n",
      "File \u001b[0;32m/opt/anaconda3/lib/python3.12/site-packages/matplotlib/backend_bases.py:2040\u001b[0m, in \u001b[0;36mFigureCanvasBase._switch_canvas_and_return_print_method.<locals>.<lambda>\u001b[0;34m(*args, **kwargs)\u001b[0m\n\u001b[1;32m   2036\u001b[0m     optional_kws \u001b[38;5;241m=\u001b[39m {  \u001b[38;5;66;03m# Passed by print_figure for other renderers.\u001b[39;00m\n\u001b[1;32m   2037\u001b[0m         \u001b[38;5;124m\"\u001b[39m\u001b[38;5;124mdpi\u001b[39m\u001b[38;5;124m\"\u001b[39m, \u001b[38;5;124m\"\u001b[39m\u001b[38;5;124mfacecolor\u001b[39m\u001b[38;5;124m\"\u001b[39m, \u001b[38;5;124m\"\u001b[39m\u001b[38;5;124medgecolor\u001b[39m\u001b[38;5;124m\"\u001b[39m, \u001b[38;5;124m\"\u001b[39m\u001b[38;5;124morientation\u001b[39m\u001b[38;5;124m\"\u001b[39m,\n\u001b[1;32m   2038\u001b[0m         \u001b[38;5;124m\"\u001b[39m\u001b[38;5;124mbbox_inches_restore\u001b[39m\u001b[38;5;124m\"\u001b[39m}\n\u001b[1;32m   2039\u001b[0m     skip \u001b[38;5;241m=\u001b[39m optional_kws \u001b[38;5;241m-\u001b[39m {\u001b[38;5;241m*\u001b[39minspect\u001b[38;5;241m.\u001b[39msignature(meth)\u001b[38;5;241m.\u001b[39mparameters}\n\u001b[0;32m-> 2040\u001b[0m     print_method \u001b[38;5;241m=\u001b[39m functools\u001b[38;5;241m.\u001b[39mwraps(meth)(\u001b[38;5;28;01mlambda\u001b[39;00m \u001b[38;5;241m*\u001b[39margs, \u001b[38;5;241m*\u001b[39m\u001b[38;5;241m*\u001b[39mkwargs: meth(\n\u001b[1;32m   2041\u001b[0m         \u001b[38;5;241m*\u001b[39margs, \u001b[38;5;241m*\u001b[39m\u001b[38;5;241m*\u001b[39m{k: v \u001b[38;5;28;01mfor\u001b[39;00m k, v \u001b[38;5;129;01min\u001b[39;00m kwargs\u001b[38;5;241m.\u001b[39mitems() \u001b[38;5;28;01mif\u001b[39;00m k \u001b[38;5;129;01mnot\u001b[39;00m \u001b[38;5;129;01min\u001b[39;00m skip}))\n\u001b[1;32m   2042\u001b[0m \u001b[38;5;28;01melse\u001b[39;00m:  \u001b[38;5;66;03m# Let third-parties do as they see fit.\u001b[39;00m\n\u001b[1;32m   2043\u001b[0m     print_method \u001b[38;5;241m=\u001b[39m meth\n",
      "File \u001b[0;32m/opt/anaconda3/lib/python3.12/site-packages/matplotlib/backends/backend_agg.py:481\u001b[0m, in \u001b[0;36mFigureCanvasAgg.print_png\u001b[0;34m(self, filename_or_obj, metadata, pil_kwargs)\u001b[0m\n\u001b[1;32m    434\u001b[0m \u001b[38;5;28;01mdef\u001b[39;00m \u001b[38;5;21mprint_png\u001b[39m(\u001b[38;5;28mself\u001b[39m, filename_or_obj, \u001b[38;5;241m*\u001b[39m, metadata\u001b[38;5;241m=\u001b[39m\u001b[38;5;28;01mNone\u001b[39;00m, pil_kwargs\u001b[38;5;241m=\u001b[39m\u001b[38;5;28;01mNone\u001b[39;00m):\n\u001b[1;32m    435\u001b[0m \u001b[38;5;250m    \u001b[39m\u001b[38;5;124;03m\"\"\"\u001b[39;00m\n\u001b[1;32m    436\u001b[0m \u001b[38;5;124;03m    Write the figure to a PNG file.\u001b[39;00m\n\u001b[1;32m    437\u001b[0m \n\u001b[0;32m   (...)\u001b[0m\n\u001b[1;32m    479\u001b[0m \u001b[38;5;124;03m        *metadata*, including the default 'Software' key.\u001b[39;00m\n\u001b[1;32m    480\u001b[0m \u001b[38;5;124;03m    \"\"\"\u001b[39;00m\n\u001b[0;32m--> 481\u001b[0m     \u001b[38;5;28mself\u001b[39m\u001b[38;5;241m.\u001b[39m_print_pil(filename_or_obj, \u001b[38;5;124m\"\u001b[39m\u001b[38;5;124mpng\u001b[39m\u001b[38;5;124m\"\u001b[39m, pil_kwargs, metadata)\n",
      "File \u001b[0;32m/opt/anaconda3/lib/python3.12/site-packages/matplotlib/backends/backend_agg.py:430\u001b[0m, in \u001b[0;36mFigureCanvasAgg._print_pil\u001b[0;34m(self, filename_or_obj, fmt, pil_kwargs, metadata)\u001b[0m\n\u001b[1;32m    425\u001b[0m \u001b[38;5;250m\u001b[39m\u001b[38;5;124;03m\"\"\"\u001b[39;00m\n\u001b[1;32m    426\u001b[0m \u001b[38;5;124;03mDraw the canvas, then save it using `.image.imsave` (to which\u001b[39;00m\n\u001b[1;32m    427\u001b[0m \u001b[38;5;124;03m*pil_kwargs* and *metadata* are forwarded).\u001b[39;00m\n\u001b[1;32m    428\u001b[0m \u001b[38;5;124;03m\"\"\"\u001b[39;00m\n\u001b[1;32m    429\u001b[0m FigureCanvasAgg\u001b[38;5;241m.\u001b[39mdraw(\u001b[38;5;28mself\u001b[39m)\n\u001b[0;32m--> 430\u001b[0m mpl\u001b[38;5;241m.\u001b[39mimage\u001b[38;5;241m.\u001b[39mimsave(\n\u001b[1;32m    431\u001b[0m     filename_or_obj, \u001b[38;5;28mself\u001b[39m\u001b[38;5;241m.\u001b[39mbuffer_rgba(), \u001b[38;5;28mformat\u001b[39m\u001b[38;5;241m=\u001b[39mfmt, origin\u001b[38;5;241m=\u001b[39m\u001b[38;5;124m\"\u001b[39m\u001b[38;5;124mupper\u001b[39m\u001b[38;5;124m\"\u001b[39m,\n\u001b[1;32m    432\u001b[0m     dpi\u001b[38;5;241m=\u001b[39m\u001b[38;5;28mself\u001b[39m\u001b[38;5;241m.\u001b[39mfigure\u001b[38;5;241m.\u001b[39mdpi, metadata\u001b[38;5;241m=\u001b[39mmetadata, pil_kwargs\u001b[38;5;241m=\u001b[39mpil_kwargs)\n",
      "File \u001b[0;32m/opt/anaconda3/lib/python3.12/site-packages/matplotlib/image.py:1634\u001b[0m, in \u001b[0;36mimsave\u001b[0;34m(fname, arr, vmin, vmax, cmap, format, origin, dpi, metadata, pil_kwargs)\u001b[0m\n\u001b[1;32m   1632\u001b[0m pil_kwargs\u001b[38;5;241m.\u001b[39msetdefault(\u001b[38;5;124m\"\u001b[39m\u001b[38;5;124mformat\u001b[39m\u001b[38;5;124m\"\u001b[39m, \u001b[38;5;28mformat\u001b[39m)\n\u001b[1;32m   1633\u001b[0m pil_kwargs\u001b[38;5;241m.\u001b[39msetdefault(\u001b[38;5;124m\"\u001b[39m\u001b[38;5;124mdpi\u001b[39m\u001b[38;5;124m\"\u001b[39m, (dpi, dpi))\n\u001b[0;32m-> 1634\u001b[0m image\u001b[38;5;241m.\u001b[39msave(fname, \u001b[38;5;241m*\u001b[39m\u001b[38;5;241m*\u001b[39mpil_kwargs)\n",
      "File \u001b[0;32m/opt/anaconda3/lib/python3.12/site-packages/PIL/Image.py:2563\u001b[0m, in \u001b[0;36mImage.save\u001b[0;34m(self, fp, format, **params)\u001b[0m\n\u001b[1;32m   2561\u001b[0m         fp \u001b[38;5;241m=\u001b[39m builtins\u001b[38;5;241m.\u001b[39mopen(filename, \u001b[38;5;124m\"\u001b[39m\u001b[38;5;124mr+b\u001b[39m\u001b[38;5;124m\"\u001b[39m)\n\u001b[1;32m   2562\u001b[0m     \u001b[38;5;28;01melse\u001b[39;00m:\n\u001b[0;32m-> 2563\u001b[0m         fp \u001b[38;5;241m=\u001b[39m builtins\u001b[38;5;241m.\u001b[39mopen(filename, \u001b[38;5;124m\"\u001b[39m\u001b[38;5;124mw+b\u001b[39m\u001b[38;5;124m\"\u001b[39m)\n\u001b[1;32m   2564\u001b[0m \u001b[38;5;28;01melse\u001b[39;00m:\n\u001b[1;32m   2565\u001b[0m     fp \u001b[38;5;241m=\u001b[39m cast(IO[\u001b[38;5;28mbytes\u001b[39m], fp)\n",
      "\u001b[0;31mFileNotFoundError\u001b[0m: [Errno 2] No such file or directory: '/Users/martin/anaconda_projects/11-02-2025/Instacart Basket Analysis/04 Analysis/Visualizations/hist_order_hod.png'"
     ]
    }
   ],
   "source": [
    "# Save the graphic\n",
    "\n",
    "hist.figure.savefig(os.path.join(save_path, 'hist_order_hod.png'))"
   ]
  },
  {
   "cell_type": "markdown",
   "id": "d880216c-9610-4213-96f9-e5d049859e9b",
   "metadata": {},
   "source": [
    "###  Order Distribution by Hour of the Day  \n",
    "\n",
    "The histogram illustrates the frequency of orders placed throughout the day.  \n",
    "\n",
    "####  Key Observations:\n",
    "- **The highest number of orders occur between 9 AM and 4 PM**, with a peak around **10 AM to 3 PM**.\n",
    "- **Order volume gradually increases** in the morning hours and declines after the peak period.\n",
    "- **The lowest order frequencies** are observed during the early morning (midnight to 6 AM) and late-night hours.\n",
    "\n",
    "####  Possible Explanations:\n",
    "- The peak in orders **aligns with standard working hours**, suggesting that customers may place orders during breaks or while at work.\n",
    "- Early morning and late-night hours have **fewer orders**, likely due to people sleeping or being less engaged in grocery shopping.\n",
    "- The **mid-morning to afternoon window** may represent the most active shopping time, possibly driven by meal planning and routine purchases.\n",
    "\n",
    "####  Business Implications:\n",
    "- Instacart could **optimize promotions and delivery slots** to match high-traffic hours.\n",
    "- Marketing strategies could focus on **engaging customers during off-peak hours** to balance demand.\n",
    "- Further segmentation could analyze **weekend vs. weekday trends** to refine promotional campaigns.\n",
    "\n",
    "---\n",
    " **Conclusion:** The data suggests that most orders are placed during the late morning and early afternoon hours. Understanding customer behavior at different times of the day can help optimize operations and marketing strategies.\n"
   ]
  },
  {
   "cell_type": "markdown",
   "id": "24cc764e-d053-4e8f-949f-4f73207a6d4b",
   "metadata": {},
   "source": [
    "# Task 4) Create a bar chart"
   ]
  },
  {
   "cell_type": "code",
   "execution_count": 21,
   "id": "8c732672-74a9-4762-9478-a0f37092242f",
   "metadata": {},
   "outputs": [
    {
     "data": {
      "image/png": "[encoded data removed]",
      "text/plain": [
       "<Figure size 640x480 with 1 Axes>"
      ]
     },
     "metadata": {},
     "output_type": "display_data"
    }
   ],
   "source": [
    "# by using function\n",
    "\n",
    "bar = df_merged['loyalty_flag'].value_counts().plot.bar(color = ['red', 'yellow', 'green'])"
   ]
  },
  {
   "cell_type": "markdown",
   "id": "4ac08f97-e292-4841-88ea-a04c889a4da2",
   "metadata": {},
   "source": [
    "### Exporting the line chart"
   ]
  },
  {
   "cell_type": "code",
   "execution_count": null,
   "id": "742ad908-79d9-4426-bcaf-7492ca52d4d5",
   "metadata": {},
   "outputs": [],
   "source": [
    "# Save the graphic\n",
    "\n",
    "bar.figure.savefig(os.path.join(save_path, 'bar_loyalty_flag.png'))"
   ]
  },
  {
   "cell_type": "markdown",
   "id": "138187b4-6b8f-4171-a877-5db0f420d914",
   "metadata": {},
   "source": [
    "###  Customer Loyalty Distribution  \n",
    "\n",
    "The bar chart illustrates the distribution of orders based on customer loyalty, as categorized by the **\"loyalty_flag\"** column.  \n",
    "\n",
    "####  Key Insights:\n",
    "- The **majority of orders** come from **loyal customers** (red), indicating that a significant portion of Instacart's revenue is driven by repeat shoppers.\n",
    "- The **regular customers** (yellow) make up the second-largest group, suggesting they are engaged but have not yet transitioned into the most loyal segment.\n",
    "- The **new customers** (green) contribute the smallest share of orders, highlighting a potential opportunity for targeted marketing strategies to encourage retention.\n",
    "\n",
    "####  Business Implications:\n",
    "- **Loyal customers** represent a valuable segment and should be prioritized in retention campaigns, offering them personalized promotions and rewards.\n",
    "- **Regular customers** have high conversion potential—targeted incentives may help move them into the loyal segment.\n",
    "- **New customers** should be nurtured through onboarding programs, welcome discounts, and engagement strategies to increase their likelihood of becoming repeat buyers.\n",
    "\n",
    "---\n",
    " **Conclusion:** The distribution suggests that Instacart benefits greatly from its loyal customer base. Focusing on customer retention strategies and personalized offers could further strengthen this segment while increasing engagement among new and regular customers.\n"
   ]
  },
  {
   "cell_type": "markdown",
   "id": "925be7b3-8bf4-48a0-ab3d-8f9dac0629c9",
   "metadata": {},
   "source": [
    "# Task 5) Create a line chart"
   ]
  },
  {
   "cell_type": "markdown",
   "id": "aa89f6e4-188c-4cfe-b9e8-c7357114a73b",
   "metadata": {},
   "source": [
    "### Step 1. Create sampling data"
   ]
  },
  {
   "cell_type": "code",
   "execution_count": null,
   "id": "f80efca3-ba39-408e-8d93-9aa32b542a15",
   "metadata": {},
   "outputs": [],
   "source": [
    "np.random.seed(4)  # For reproducibility\n",
    "dev = np.random.rand(len(df_merged)) <= 0.7  # 70% True, 30% False\n",
    "\n",
    "# Create training and test sets based on the random sample\n",
    "big = df_merged[dev]  # 70% of the data for the analysis\n",
    "small = df_merged[~dev]  # 30% remain as a holdout set"
   ]
  },
  {
   "cell_type": "code",
   "execution_count": null,
   "id": "eb0e6a0c-7b32-4483-905c-54bbb3973a16",
   "metadata": {},
   "outputs": [],
   "source": [
    "# Check the exact number of rows in the whole dataframe\n",
    "\n",
    "len(df_merged)"
   ]
  },
  {
   "cell_type": "code",
   "execution_count": null,
   "id": "d7a01da4-3aa9-46b9-a5c6-6aa0532f42f2",
   "metadata": {},
   "outputs": [],
   "source": [
    "# Check if dataframe big & small combined are having the same amount of rows\n",
    "\n",
    "len(big) + len(small)"
   ]
  },
  {
   "cell_type": "code",
   "execution_count": null,
   "id": "ff9a02d7-d0ae-43a9-b2cf-5a8080639a32",
   "metadata": {},
   "outputs": [],
   "source": [
    "# Next: reducing your samples to only those columns necessary for the chart, namely “prices” and “orders_day_of_week.\n",
    "\n",
    "df_2 = small[['order_hour_of_day','prices']]"
   ]
  },
  {
   "cell_type": "markdown",
   "id": "0a9bb2e9-d806-4cc7-9ce0-51e6bb983c0f",
   "metadata": {},
   "source": [
    "### Step 2. Create the line chart"
   ]
  },
  {
   "cell_type": "code",
   "execution_count": null,
   "id": "fa5b6b83-da37-4f2f-8f6c-ca80a4800e6d",
   "metadata": {},
   "outputs": [],
   "source": [
    "# Now, you’re finally ready to create your chart. Go ahead and execute the following code:\n",
    "\n",
    "line = sns.lineplot(data = df_2, x = 'order_hour_of_day',y = 'prices')"
   ]
  },
  {
   "cell_type": "markdown",
   "id": "f43573b5-bd94-4a6b-afd2-0674f16f21de",
   "metadata": {},
   "source": [
    "### Exporting the line chart"
   ]
  },
  {
   "cell_type": "code",
   "execution_count": null,
   "id": "6f56f369-0f60-4dfc-b4a0-1bf8dae25064",
   "metadata": {},
   "outputs": [],
   "source": [
    "# Save the graphic\n",
    "line.figure.savefig(os.path.join(save_path, 'line2_order_prices_dow.png'))"
   ]
  },
  {
   "cell_type": "markdown",
   "id": "d2839cb3-b409-4187-8031-d0a7759cf3ec",
   "metadata": {},
   "source": [
    "###  Expenditure Analysis by Hour of the Day  \n",
    "\n",
    "The line chart illustrates the **average spending (`prices` column) over different hours of the day**.  \n",
    "\n",
    "####  Key Observations:\n",
    "- A **significant peak** in expenditures occurs **between 4-6 AM**, where the average spending is noticeably higher than during the rest of the day.\n",
    "- After this peak, **spending stabilizes** throughout the day, with minor fluctuations between **10 and 20 USD**.\n",
    "- The **lowest expenditure levels** are seen during late-night hours.\n",
    "\n",
    "####  Possible Explanations:\n",
    "- The early-morning **spike in spending** could be due to:\n",
    "  - **Bulk or business orders** that are placed automatically.\n",
    "  - **Specific customer segments**, such as night-shift workers or early-morning shoppers.\n",
    "  - **High-value product categories**, which might be more frequently ordered at these hours.\n",
    "- Throughout the rest of the day, spending remains **consistent**, likely due to typical grocery shopping habits.\n",
    "\n",
    "####  Further Analysis:\n",
    "To better understand these patterns, additional analysis could explore:\n",
    "- **Product categories** contributing to the early-morning spike.\n",
    "- **Customer segmentation**: Do high-spending customers follow a specific shopping pattern?\n",
    "- **Differences between weekdays and weekends** to determine if these trends are work-related.\n",
    "\n",
    "---\n",
    " **Conclusion:** The data suggests that **high-value purchases** are disproportionately made in the early morning, while spending remains steady for the rest of the day. Identifying the customer groups responsible for these trends could provide valuable business insights.  \n"
   ]
  },
  {
   "cell_type": "markdown",
   "id": "bb3ef409-459c-40fd-9c4b-8d7bee888e5e",
   "metadata": {},
   "source": [
    "# Task 6) Create a line chart"
   ]
  },
  {
   "cell_type": "markdown",
   "id": "3750e41f-9046-4d0a-8445-98f30ae8855c",
   "metadata": {},
   "source": [
    "### Step 1. Create sampling data"
   ]
  },
  {
   "cell_type": "code",
   "execution_count": null,
   "id": "4f4887bf-985a-4a44-9cb7-bebbc93802fc",
   "metadata": {},
   "outputs": [],
   "source": [
    "np.random.seed(6)  # For reproducibility\n",
    "dev_6 = np.random.rand(len(df_merged)) <= 0.7  # 70% True, 30% False\n",
    "\n",
    "# Create training and test sets based on the random sample\n",
    "big_6 = df_merged[dev_6]  # 70% of the data for the analysis\n",
    "small_6 = df_merged[~dev_6]  # 30% remain as a holdout set"
   ]
  },
  {
   "cell_type": "code",
   "execution_count": null,
   "id": "f7ae28c9-8ed0-4d3d-851c-1e66b89fa2e2",
   "metadata": {},
   "outputs": [],
   "source": [
    "# Next: reducing your samples to only those columns necessary for the chart, namely “prices” and “orders_day_of_week.\n",
    "\n",
    "df_6 = small[['age','num_dependants']]"
   ]
  },
  {
   "cell_type": "markdown",
   "id": "a56cd650-8545-4d88-b8ca-2446dc5cb434",
   "metadata": {},
   "source": [
    "### Step 2. Create the line chart"
   ]
  },
  {
   "cell_type": "code",
   "execution_count": null,
   "id": "855474ff-e36a-437f-a899-146a815d4818",
   "metadata": {},
   "outputs": [],
   "source": [
    "line_6 = sns.lineplot(data = df_6, x = 'age',y = 'num_dependants')"
   ]
  },
  {
   "cell_type": "markdown",
   "id": "65d5cd64-9abc-4dd8-b432-cba619ae068a",
   "metadata": {},
   "source": [
    "### Exporting the line chart"
   ]
  },
  {
   "cell_type": "code",
   "execution_count": null,
   "id": "a8dcb388-fae0-4098-8ada-8d8f33026b16",
   "metadata": {},
   "outputs": [],
   "source": [
    "# Save the graphic\n",
    "line_6.figure.savefig(os.path.join(save_path, 'line6_order_prices_dow.png'))"
   ]
  },
  {
   "cell_type": "markdown",
   "id": "63f71a26-998f-412b-b3da-701480d656d3",
   "metadata": {},
   "source": [
    "###  Relationship Between Age and Number of Dependents  \n",
    "\n",
    "The line chart illustrates the relationship between **customer age** and their **average number of dependents**.  \n",
    "\n",
    "####  Key Observations:\n",
    "- The data does not show a **strong linear trend**, but rather **fluctuations** across different age groups.  \n",
    "- The number of dependents appears to be relatively **stable**, fluctuating slightly around **1.5 dependents per customer** across all age groups.  \n",
    "- There are **small peaks and dips**, but no clear increase or decrease with age.  \n",
    "\n",
    "####  Possible Explanations:\n",
    "- This pattern suggests that **family structures remain relatively constant across age groups**, likely due to a mix of different household types (e.g., families with children, multi-generational households).\n",
    "- The **variability in the older age groups** could be due to **smaller sample sizes**, making the trend appear less stable.\n",
    "- A deeper analysis could segment customers based on **lifestyle factors** to check if spending behavior correlates with family size.  \n",
    "\n",
    "####  Business Implications:\n",
    "- **Targeted marketing campaigns** should focus on behavioral segments rather than age alone, as age does not seem to be a strong predictor of family size.\n",
    "- Further analysis could explore **differences in spending habits between customers with and without dependents** to refine marketing strategies.  \n",
    "\n",
    "---\n",
    " **Conclusion:** The analysis suggests that while family size is relatively stable across age groups, there may be underlying segments influencing purchasing behavior that should be explored further.\n"
   ]
  },
  {
   "cell_type": "markdown",
   "id": "1993f442-38ef-40a6-82b5-ce6ed6069008",
   "metadata": {},
   "source": [
    "# Task 7) Creating a Scatter Plot"
   ]
  },
  {
   "cell_type": "code",
   "execution_count": null,
   "id": "1de2845a-f997-4468-a7a1-5f1c8f927870",
   "metadata": {},
   "outputs": [],
   "source": [
    "# a scatter plot can be used to visually identify potential outliers in the data using the following code:\n",
    "\n",
    "sns.scatterplot(x = 'age', y = 'income',data = df_merged)"
   ]
  },
  {
   "cell_type": "markdown",
   "id": "9840cd0e-a1a7-4387-9101-bd6f364242b7",
   "metadata": {},
   "source": [
    "###  Relationship Between Age and Income  \n",
    "\n",
    "The scatter plot visualizes the relationship between **customer age** and **income**, helping to identify potential outliers.  \n",
    "\n",
    "####  Key Observations:\n",
    "- The majority of customers have an income **below 200,000 USD**, indicating a typical income distribution.\n",
    "- There are **numerous high-income outliers**, particularly above **400,000 USD**, which may represent high-net-worth individuals or potential data anomalies.\n",
    "- The distribution suggests that **income variability increases with age**, meaning older customers exhibit a wider range of income levels.\n",
    "\n",
    "####  Possible Explanations:\n",
    "- The high-income outliers could represent **executives, business owners, or retirees with significant financial assets**.\n",
    "- Younger customers tend to have a **lower and more consistent income**, which aligns with career progression patterns.\n",
    "- There is **no clear linear correlation** between age and income, indicating that other factors (e.g., occupation, education) likely play a role.\n",
    "\n",
    "####  Business Implications:\n",
    "- Marketing strategies should consider **segmenting customers by income brackets** rather than solely by age.\n",
    "- **High-income customers** could be targeted with premium product recommendations.\n",
    "- Additional filtering or **outlier treatment** may be necessary to ensure accurate data analysis.\n",
    "\n",
    "---\n",
    " **Conclusion:** The analysis highlights **income variability across age groups** and the presence of **high-income outliers**, which may require further investigation for refined customer segmentation.\n"
   ]
  },
  {
   "cell_type": "code",
   "execution_count": null,
   "id": "a161f178-e1e9-4c0d-9303-5d02f2c262af",
   "metadata": {},
   "outputs": [],
   "source": [
    "# Export data to pkl\n",
    "df_merged.to_pickle(os.path.join(path, '02 Data','Prepared Data', 'orders_products_customers_combined_2.pkl'))"
   ]
  }
 ],
 "metadata": {
  "kernelspec": {
   "display_name": "Python [conda env:base] *",
   "language": "python",
   "name": "conda-base-py"
  },
  "language_info": {
   "codemirror_mode": {
    "name": "ipython",
    "version": 3
   },
   "file_extension": ".py",
   "mimetype": "text/x-python",
   "name": "python",
   "nbconvert_exporter": "python",
   "pygments_lexer": "ipython3",
   "version": "3.12.7"
  }
 },
 "nbformat": 4,
 "nbformat_minor": 5
}
